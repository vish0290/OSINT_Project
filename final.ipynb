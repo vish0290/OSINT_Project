{
 "cells": [
  {
   "cell_type": "code",
   "execution_count": 1,
   "metadata": {},
   "outputs": [],
   "source": [
    "import os\n",
    "from mistralai import Mistral\n",
    "from dotenv import load_dotenv\n",
    "import pandas as pd\n",
    "load_dotenv()\n",
    "import time\n",
    "from pymongo import MongoClient\n",
    "import json\n",
    "import asyncio\n"
   ]
  },
  {
   "cell_type": "code",
   "execution_count": 2,
   "metadata": {},
   "outputs": [],
   "source": [
    "api_key = os.environ[\"mistral_key\"]\n",
    "gen_ai_key = os.environ[\"gen_ai_key\"]\n",
    "agent_id = os.environ[\"agent_id\"]\n",
    "db_url = os.environ[\"DB_URL\"]\n",
    "model = \"open-mistral-nemo\"\n",
    "client = Mistral(api_key=api_key)\n",
    "mongo_client = MongoClient(db_url)\n",
    "db  = mongo_client.reddit\n",
    "post_db = db['post_new']"
   ]
  },
  {
   "cell_type": "code",
   "execution_count": 3,
   "metadata": {},
   "outputs": [
    {
     "name": "stdout",
     "output_type": "stream",
     "text": [
      "10001\n"
     ]
    }
   ],
   "source": [
    "rec = post_db.find()\n",
    "rec = list(rec)\n",
    "print(len(rec)) "
   ]
  },
  {
   "cell_type": "code",
   "execution_count": 4,
   "metadata": {},
   "outputs": [],
   "source": [
    "df = pd.DataFrame(rec)"
   ]
  },
  {
   "cell_type": "code",
   "execution_count": 5,
   "metadata": {},
   "outputs": [],
   "source": [
    "df = df.drop_duplicates(subset=['title'])"
   ]
  },
  {
   "cell_type": "code",
   "execution_count": 6,
   "metadata": {},
   "outputs": [
    {
     "data": {
      "text/plain": [
       "875"
      ]
     },
     "execution_count": 6,
     "metadata": {},
     "output_type": "execute_result"
    }
   ],
   "source": [
    "len(df)"
   ]
  },
  {
   "cell_type": "code",
   "execution_count": 9,
   "metadata": {},
   "outputs": [
    {
     "data": {
      "text/plain": [
       "InsertManyResult([ObjectId('67558db3eeb7770cf0a37c63'), ObjectId('67558db3eeb7770cf0a37c64'), ObjectId('67558db3eeb7770cf0a37c65'), ObjectId('67558db3eeb7770cf0a37c66'), ObjectId('67558db3eeb7770cf0a37c67'), ObjectId('67558db3eeb7770cf0a37c68'), ObjectId('67558db3eeb7770cf0a37c69'), ObjectId('67558db3eeb7770cf0a37c6a'), ObjectId('67558db3eeb7770cf0a37c6b'), ObjectId('67558db3eeb7770cf0a37c6c'), ObjectId('67558db3eeb7770cf0a37c6d'), ObjectId('67558db3eeb7770cf0a37c6e'), ObjectId('67558db3eeb7770cf0a37c6f'), ObjectId('67558db3eeb7770cf0a37c70'), ObjectId('67558db3eeb7770cf0a37c71'), ObjectId('67558db3eeb7770cf0a37c72'), ObjectId('67558db3eeb7770cf0a37c73'), ObjectId('67558db3eeb7770cf0a37c74'), ObjectId('67558db3eeb7770cf0a37c75'), ObjectId('67558db3eeb7770cf0a37c76'), ObjectId('67558db3eeb7770cf0a37c77'), ObjectId('67558db3eeb7770cf0a37c78'), ObjectId('67558db3eeb7770cf0a37c79'), ObjectId('67558db3eeb7770cf0a37c7a'), ObjectId('67558db3eeb7770cf0a37c7b'), ObjectId('67558db3eeb7770cf0a37c7c'), ObjectId('67558db3eeb7770cf0a37c7d'), ObjectId('67558db3eeb7770cf0a37c7e'), ObjectId('67558db3eeb7770cf0a37c7f'), ObjectId('67558db3eeb7770cf0a37c80'), ObjectId('67558db3eeb7770cf0a37c81'), ObjectId('67558db3eeb7770cf0a37c82'), ObjectId('67558db3eeb7770cf0a37c83'), ObjectId('67558db3eeb7770cf0a37c84'), ObjectId('67558db3eeb7770cf0a37c85'), ObjectId('67558db3eeb7770cf0a37c86'), ObjectId('67558db3eeb7770cf0a37c87'), ObjectId('67558db3eeb7770cf0a37c88'), ObjectId('67558db3eeb7770cf0a37c89'), ObjectId('67558db3eeb7770cf0a37c8a'), ObjectId('67558db3eeb7770cf0a37c8b'), ObjectId('67558db3eeb7770cf0a37c8c'), ObjectId('67558db3eeb7770cf0a37c8d'), ObjectId('67558db3eeb7770cf0a37c8e'), ObjectId('67558db3eeb7770cf0a37c8f'), ObjectId('67558db3eeb7770cf0a37c90'), ObjectId('67558db3eeb7770cf0a37c91'), ObjectId('67558db3eeb7770cf0a37c92'), ObjectId('67558db3eeb7770cf0a37c93'), ObjectId('67558db3eeb7770cf0a37c94'), ObjectId('67558db3eeb7770cf0a37c95'), ObjectId('67558db3eeb7770cf0a37c96'), ObjectId('67558db3eeb7770cf0a37c97'), ObjectId('67558db3eeb7770cf0a37c98'), ObjectId('67558db3eeb7770cf0a37c99'), ObjectId('67558db3eeb7770cf0a37c9a'), ObjectId('67558db3eeb7770cf0a37c9b'), ObjectId('67558db3eeb7770cf0a37c9c'), ObjectId('67558db3eeb7770cf0a37c9d'), ObjectId('67558db3eeb7770cf0a37c9e'), ObjectId('67558db3eeb7770cf0a37c9f'), ObjectId('67558db3eeb7770cf0a37ca0'), ObjectId('67558db3eeb7770cf0a37ca1'), ObjectId('67558db3eeb7770cf0a37ca2'), ObjectId('67558db3eeb7770cf0a37ca3'), ObjectId('67558db3eeb7770cf0a37ca4'), ObjectId('67558db3eeb7770cf0a37ca5'), ObjectId('67558db3eeb7770cf0a37ca6'), ObjectId('67558db3eeb7770cf0a37ca7'), ObjectId('67558db3eeb7770cf0a37ca8'), ObjectId('67558db3eeb7770cf0a37ca9'), ObjectId('67558db3eeb7770cf0a37caa'), ObjectId('67558db3eeb7770cf0a37cab'), ObjectId('67558db3eeb7770cf0a37cac'), ObjectId('67558db3eeb7770cf0a37cad'), ObjectId('67558db3eeb7770cf0a37cae'), ObjectId('67558db3eeb7770cf0a37caf'), ObjectId('67558db3eeb7770cf0a37cb0'), ObjectId('67558db3eeb7770cf0a37cb1'), ObjectId('67558db3eeb7770cf0a37cb2'), ObjectId('67558db3eeb7770cf0a37cb3'), ObjectId('67558db3eeb7770cf0a37cb4'), ObjectId('67558db3eeb7770cf0a37cb5'), ObjectId('67558db3eeb7770cf0a37cb6'), ObjectId('67558db3eeb7770cf0a37cb7'), ObjectId('67558db3eeb7770cf0a37cb8'), ObjectId('67558db3eeb7770cf0a37cb9'), ObjectId('67558db3eeb7770cf0a37cba'), ObjectId('67558db3eeb7770cf0a37cbb'), ObjectId('67558db3eeb7770cf0a37cbc'), ObjectId('67558db3eeb7770cf0a37cbd'), ObjectId('67558db3eeb7770cf0a37cbe'), ObjectId('67558db3eeb7770cf0a37cbf'), ObjectId('67558db3eeb7770cf0a37cc0'), ObjectId('67558db3eeb7770cf0a37cc1'), ObjectId('67558db3eeb7770cf0a37cc2'), ObjectId('67558db3eeb7770cf0a37cc3'), ObjectId('67558db3eeb7770cf0a37cc4'), ObjectId('67558db3eeb7770cf0a37cc5'), ObjectId('67558db3eeb7770cf0a37cc6'), ObjectId('67558db8eeb7770cf0a37cc7'), ObjectId('67558db8eeb7770cf0a37cc8'), ObjectId('67558db8eeb7770cf0a37cc9'), ObjectId('67558db8eeb7770cf0a37cca'), ObjectId('67558db8eeb7770cf0a37ccb'), ObjectId('67558db8eeb7770cf0a37ccc'), ObjectId('67558db8eeb7770cf0a37ccd'), ObjectId('67558db8eeb7770cf0a37cce'), ObjectId('67558db8eeb7770cf0a37ccf'), ObjectId('67558db8eeb7770cf0a37cd0'), ObjectId('67558db8eeb7770cf0a37cd1'), ObjectId('67558db8eeb7770cf0a37cd2'), ObjectId('67558db8eeb7770cf0a37cd3'), ObjectId('67558db8eeb7770cf0a37cd4'), ObjectId('67558db8eeb7770cf0a37cd5'), ObjectId('67558db8eeb7770cf0a37cd6'), ObjectId('67558db8eeb7770cf0a37cd7'), ObjectId('67558db8eeb7770cf0a37cd8'), ObjectId('67558db8eeb7770cf0a37cd9'), ObjectId('67558db8eeb7770cf0a37cda'), ObjectId('67558db8eeb7770cf0a37cdb'), ObjectId('67558db8eeb7770cf0a37cdc'), ObjectId('67558db8eeb7770cf0a37cdd'), ObjectId('67558db8eeb7770cf0a37cde'), ObjectId('67558db8eeb7770cf0a37cdf'), ObjectId('67558db8eeb7770cf0a37ce0'), ObjectId('67558db8eeb7770cf0a37ce1'), ObjectId('67558db8eeb7770cf0a37ce2'), ObjectId('67558db8eeb7770cf0a37ce3'), ObjectId('67558db8eeb7770cf0a37ce4'), ObjectId('67558db8eeb7770cf0a37ce5'), ObjectId('67558db8eeb7770cf0a37ce6'), ObjectId('67558db8eeb7770cf0a37ce7'), ObjectId('67558db8eeb7770cf0a37ce8'), ObjectId('67558db8eeb7770cf0a37ce9'), ObjectId('67558db8eeb7770cf0a37cea'), ObjectId('67558db8eeb7770cf0a37ceb'), ObjectId('67558db8eeb7770cf0a37cec'), ObjectId('67558db8eeb7770cf0a37ced'), ObjectId('67558db8eeb7770cf0a37cee'), ObjectId('67558db8eeb7770cf0a37cef'), ObjectId('67558db8eeb7770cf0a37cf0'), ObjectId('67558db8eeb7770cf0a37cf1'), ObjectId('67558db8eeb7770cf0a37cf2'), ObjectId('67558db8eeb7770cf0a37cf3'), ObjectId('67558db8eeb7770cf0a37cf4'), ObjectId('67558db8eeb7770cf0a37cf5'), ObjectId('67558db8eeb7770cf0a37cf6'), ObjectId('67558db8eeb7770cf0a37cf7'), ObjectId('67558db8eeb7770cf0a37cf8'), ObjectId('67558db8eeb7770cf0a37cf9'), ObjectId('67558db8eeb7770cf0a37cfa'), ObjectId('67558db8eeb7770cf0a37cfb'), ObjectId('67558db8eeb7770cf0a37cfc'), ObjectId('67558db8eeb7770cf0a37cfd'), ObjectId('67558db8eeb7770cf0a37cfe'), ObjectId('67558db8eeb7770cf0a37cff'), ObjectId('67558db8eeb7770cf0a37d00'), ObjectId('67558db8eeb7770cf0a37d01'), ObjectId('67558db8eeb7770cf0a37d02'), ObjectId('67558db8eeb7770cf0a37d03'), ObjectId('67558db8eeb7770cf0a37d04'), ObjectId('67558db8eeb7770cf0a37d05'), ObjectId('67558db8eeb7770cf0a37d06'), ObjectId('67558db8eeb7770cf0a37d07'), ObjectId('67558db8eeb7770cf0a37d08'), ObjectId('67558db8eeb7770cf0a37d09'), ObjectId('67558db8eeb7770cf0a37d0a'), ObjectId('67558db8eeb7770cf0a37d0b'), ObjectId('67558db8eeb7770cf0a37d0c'), ObjectId('67558db8eeb7770cf0a37d0d'), ObjectId('67558db8eeb7770cf0a37d0e'), ObjectId('67558db8eeb7770cf0a37d0f'), ObjectId('67558db8eeb7770cf0a37d10'), ObjectId('67558db8eeb7770cf0a37d11'), ObjectId('67558db8eeb7770cf0a37d12'), ObjectId('67558db8eeb7770cf0a37d13'), ObjectId('67558db8eeb7770cf0a37d14'), ObjectId('67558db8eeb7770cf0a37d15'), ObjectId('67558db8eeb7770cf0a37d16'), ObjectId('67558db8eeb7770cf0a37d17'), ObjectId('67558db8eeb7770cf0a37d18'), ObjectId('67558db8eeb7770cf0a37d19'), ObjectId('67558db8eeb7770cf0a37d1a'), ObjectId('67558db8eeb7770cf0a37d1b'), ObjectId('67558db8eeb7770cf0a37d1c'), ObjectId('67558db8eeb7770cf0a37d1d'), ObjectId('67558db8eeb7770cf0a37d1e'), ObjectId('67558db8eeb7770cf0a37d1f'), ObjectId('67558db8eeb7770cf0a37d20'), ObjectId('67558db8eeb7770cf0a37d21'), ObjectId('67558db8eeb7770cf0a37d22'), ObjectId('67558db8eeb7770cf0a37d23'), ObjectId('67558db8eeb7770cf0a37d24'), ObjectId('67558db8eeb7770cf0a37d25'), ObjectId('67558db8eeb7770cf0a37d27'), ObjectId('67558db8eeb7770cf0a37d29'), ObjectId('67558db8eeb7770cf0a37d2a'), ObjectId('67558dbceeb7770cf0a37d2b'), ObjectId('67558dbceeb7770cf0a37d2c'), ObjectId('67558dbceeb7770cf0a37d2d'), ObjectId('67558dbceeb7770cf0a37d2e'), ObjectId('67558dbceeb7770cf0a37d2f'), ObjectId('67558dbceeb7770cf0a37d30'), ObjectId('67558dbceeb7770cf0a37d31'), ObjectId('67558dbceeb7770cf0a37d32'), ObjectId('67558dbceeb7770cf0a37d33'), ObjectId('67558dbceeb7770cf0a37d34'), ObjectId('67558dbceeb7770cf0a37d35'), ObjectId('67558dbceeb7770cf0a37d36'), ObjectId('67558dbceeb7770cf0a37d37'), ObjectId('67558dbceeb7770cf0a37d38'), ObjectId('67558dbceeb7770cf0a37d39'), ObjectId('67558dbceeb7770cf0a37d3a'), ObjectId('67558dbceeb7770cf0a37d3b'), ObjectId('67558dbceeb7770cf0a37d3c'), ObjectId('67558dbceeb7770cf0a37d3d'), ObjectId('67558dbceeb7770cf0a37d3e'), ObjectId('67558dbceeb7770cf0a37d3f'), ObjectId('67558dbceeb7770cf0a37d40'), ObjectId('67558dbceeb7770cf0a37d41'), ObjectId('67558dbceeb7770cf0a37d42'), ObjectId('67558dbceeb7770cf0a37d43'), ObjectId('67558dbceeb7770cf0a37d44'), ObjectId('67558dbceeb7770cf0a37d45'), ObjectId('67558dbceeb7770cf0a37d46'), ObjectId('67558dbceeb7770cf0a37d47'), ObjectId('67558dbceeb7770cf0a37d48'), ObjectId('67558dbceeb7770cf0a37d49'), ObjectId('67558dbceeb7770cf0a37d4a'), ObjectId('67558dbceeb7770cf0a37d4b'), ObjectId('67558dbceeb7770cf0a37d4c'), ObjectId('67558dbceeb7770cf0a37d4d'), ObjectId('67558dbceeb7770cf0a37d4e'), ObjectId('67558dbceeb7770cf0a37d4f'), ObjectId('67558dbceeb7770cf0a37d50'), ObjectId('67558dbceeb7770cf0a37d51'), ObjectId('67558dbceeb7770cf0a37d52'), ObjectId('67558dbceeb7770cf0a37d53'), ObjectId('67558dbceeb7770cf0a37d54'), ObjectId('67558dbceeb7770cf0a37d55'), ObjectId('67558dbceeb7770cf0a37d56'), ObjectId('67558dbceeb7770cf0a37d57'), ObjectId('67558dbceeb7770cf0a37d58'), ObjectId('67558dbceeb7770cf0a37d59'), ObjectId('67558dbceeb7770cf0a37d5a'), ObjectId('67558dbceeb7770cf0a37d5b'), ObjectId('67558dbceeb7770cf0a37d5c'), ObjectId('67558dbceeb7770cf0a37d5d'), ObjectId('67558dbceeb7770cf0a37d5e'), ObjectId('67558dbceeb7770cf0a37d5f'), ObjectId('67558dbceeb7770cf0a37d60'), ObjectId('67558dbceeb7770cf0a37d61'), ObjectId('67558dbceeb7770cf0a37d62'), ObjectId('67558dbceeb7770cf0a37d63'), ObjectId('67558dbceeb7770cf0a37d64'), ObjectId('67558dbceeb7770cf0a37d65'), ObjectId('67558dbceeb7770cf0a37d66'), ObjectId('67558dbceeb7770cf0a37d67'), ObjectId('67558dbceeb7770cf0a37d68'), ObjectId('67558dbceeb7770cf0a37d69'), ObjectId('67558dbceeb7770cf0a37d6a'), ObjectId('67558dbceeb7770cf0a37d6b'), ObjectId('67558dbceeb7770cf0a37d6c'), ObjectId('67558dbceeb7770cf0a37d6d'), ObjectId('67558dbceeb7770cf0a37d6e'), ObjectId('67558dbceeb7770cf0a37d6f'), ObjectId('67558dbceeb7770cf0a37d70'), ObjectId('67558dbceeb7770cf0a37d71'), ObjectId('67558dbceeb7770cf0a37d72'), ObjectId('67558dbceeb7770cf0a37d73'), ObjectId('67558dbceeb7770cf0a37d74'), ObjectId('67558dbceeb7770cf0a37d75'), ObjectId('67558dbceeb7770cf0a37d76'), ObjectId('67558dbceeb7770cf0a37d77'), ObjectId('67558dbceeb7770cf0a37d78'), ObjectId('67558dbceeb7770cf0a37d79'), ObjectId('67558dbceeb7770cf0a37d7a'), ObjectId('67558dbceeb7770cf0a37d7b'), ObjectId('67558dbceeb7770cf0a37d7c'), ObjectId('67558dbceeb7770cf0a37d7d'), ObjectId('67558dbceeb7770cf0a37d7e'), ObjectId('67558dbceeb7770cf0a37d7f'), ObjectId('67558dbceeb7770cf0a37d80'), ObjectId('67558dbceeb7770cf0a37d81'), ObjectId('67558dbceeb7770cf0a37d82'), ObjectId('67558dbceeb7770cf0a37d83'), ObjectId('67558dbceeb7770cf0a37d84'), ObjectId('67558dbceeb7770cf0a37d85'), ObjectId('67558dbceeb7770cf0a37d86'), ObjectId('67558dbceeb7770cf0a37d87'), ObjectId('67558dbceeb7770cf0a37d88'), ObjectId('67558dbceeb7770cf0a37d89'), ObjectId('67558dbceeb7770cf0a37d8a'), ObjectId('67558dbceeb7770cf0a37d8b'), ObjectId('67558dbceeb7770cf0a37d8c'), ObjectId('67558dbceeb7770cf0a37d8e'), ObjectId('67558dc2eeb7770cf0a37d8f'), ObjectId('67558dc2eeb7770cf0a37d90'), ObjectId('67558dc2eeb7770cf0a37d91'), ObjectId('67558dc2eeb7770cf0a37d92'), ObjectId('67558dc2eeb7770cf0a37d93'), ObjectId('67558dc2eeb7770cf0a37d94'), ObjectId('67558dc2eeb7770cf0a37d95'), ObjectId('67558dc2eeb7770cf0a37d96'), ObjectId('67558dc2eeb7770cf0a37d97'), ObjectId('67558dc2eeb7770cf0a37d98'), ObjectId('67558dc2eeb7770cf0a37d99'), ObjectId('67558dc2eeb7770cf0a37d9a'), ObjectId('67558dc2eeb7770cf0a37d9b'), ObjectId('67558dc2eeb7770cf0a37d9c'), ObjectId('67558dc2eeb7770cf0a37d9d'), ObjectId('67558dc2eeb7770cf0a37d9e'), ObjectId('67558dc2eeb7770cf0a37d9f'), ObjectId('67558dc2eeb7770cf0a37da0'), ObjectId('67558dc2eeb7770cf0a37da1'), ObjectId('67558dc2eeb7770cf0a37da2'), ObjectId('67558dc2eeb7770cf0a37da3'), ObjectId('67558dc2eeb7770cf0a37da4'), ObjectId('67558dc2eeb7770cf0a37da5'), ObjectId('67558dc2eeb7770cf0a37da6'), ObjectId('67558dc2eeb7770cf0a37da7'), ObjectId('67558dc2eeb7770cf0a37da8'), ObjectId('67558dc2eeb7770cf0a37da9'), ObjectId('67558dc2eeb7770cf0a37daa'), ObjectId('67558dc2eeb7770cf0a37dab'), ObjectId('67558dc2eeb7770cf0a37dac'), ObjectId('67558dc2eeb7770cf0a37dad'), ObjectId('67558dc2eeb7770cf0a37dae'), ObjectId('67558dc2eeb7770cf0a37daf'), ObjectId('67558dc2eeb7770cf0a37db0'), ObjectId('67558dc2eeb7770cf0a37db1'), ObjectId('67558dc2eeb7770cf0a37db2'), ObjectId('67558dc2eeb7770cf0a37db3'), ObjectId('67558dc2eeb7770cf0a37db4'), ObjectId('67558dc2eeb7770cf0a37db5'), ObjectId('67558dc2eeb7770cf0a37db6'), ObjectId('67558dc2eeb7770cf0a37db7'), ObjectId('67558dc2eeb7770cf0a37db8'), ObjectId('67558dc2eeb7770cf0a37db9'), ObjectId('67558dc2eeb7770cf0a37dba'), ObjectId('67558dc2eeb7770cf0a37dbc'), ObjectId('67558dc2eeb7770cf0a37dbd'), ObjectId('67558dc2eeb7770cf0a37dbe'), ObjectId('67558dc2eeb7770cf0a37dbf'), ObjectId('67558dc2eeb7770cf0a37dc0'), ObjectId('67558dc2eeb7770cf0a37dc1'), ObjectId('67558dc2eeb7770cf0a37dc3'), ObjectId('67558dc2eeb7770cf0a37dc4'), ObjectId('67558dc2eeb7770cf0a37dc5'), ObjectId('67558dc2eeb7770cf0a37dc6'), ObjectId('67558dc2eeb7770cf0a37dc7'), ObjectId('67558dc2eeb7770cf0a37dc8'), ObjectId('67558dc2eeb7770cf0a37dc9'), ObjectId('67558dc2eeb7770cf0a37dca'), ObjectId('67558dc2eeb7770cf0a37dcb'), ObjectId('67558dc2eeb7770cf0a37dcc'), ObjectId('67558dc2eeb7770cf0a37dcd'), ObjectId('67558dc2eeb7770cf0a37dce'), ObjectId('67558dc2eeb7770cf0a37dcf'), ObjectId('67558dc2eeb7770cf0a37dd0'), ObjectId('67558dc2eeb7770cf0a37dd1'), ObjectId('67558dc2eeb7770cf0a37dd2'), ObjectId('67558dc2eeb7770cf0a37dd3'), ObjectId('67558dc2eeb7770cf0a37dd4'), ObjectId('67558dc2eeb7770cf0a37dd5'), ObjectId('67558dc2eeb7770cf0a37dd6'), ObjectId('67558dc2eeb7770cf0a37dd7'), ObjectId('67558dc2eeb7770cf0a37dd8'), ObjectId('67558dc2eeb7770cf0a37dd9'), ObjectId('67558dc2eeb7770cf0a37dda'), ObjectId('67558dc2eeb7770cf0a37ddb'), ObjectId('67558dc2eeb7770cf0a37ddc'), ObjectId('67558dc2eeb7770cf0a37ddd'), ObjectId('67558dc2eeb7770cf0a37dde'), ObjectId('67558dc2eeb7770cf0a37ddf'), ObjectId('67558dc2eeb7770cf0a37de0'), ObjectId('67558dc2eeb7770cf0a37de1'), ObjectId('67558dc2eeb7770cf0a37de2'), ObjectId('67558dc2eeb7770cf0a37de3'), ObjectId('67558dc2eeb7770cf0a37de4'), ObjectId('67558dc2eeb7770cf0a37de5'), ObjectId('67558dc2eeb7770cf0a37de6'), ObjectId('67558dc2eeb7770cf0a37de7'), ObjectId('67558dc2eeb7770cf0a37de9'), ObjectId('67558dc2eeb7770cf0a37dea'), ObjectId('67558dc2eeb7770cf0a37deb'), ObjectId('67558dc2eeb7770cf0a37dec'), ObjectId('67558dc2eeb7770cf0a37ded'), ObjectId('67558dc2eeb7770cf0a37dee'), ObjectId('67558dc2eeb7770cf0a37def'), ObjectId('67558dc2eeb7770cf0a37df0'), ObjectId('67558dc2eeb7770cf0a37df1'), ObjectId('67558dc2eeb7770cf0a37df2'), ObjectId('67558dc7eeb7770cf0a37df3'), ObjectId('67558dc7eeb7770cf0a37df4'), ObjectId('67558dc7eeb7770cf0a37df5'), ObjectId('67558dc7eeb7770cf0a37df6'), ObjectId('67558dc7eeb7770cf0a37df7'), ObjectId('67558dc7eeb7770cf0a37df8'), ObjectId('67558dc7eeb7770cf0a37df9'), ObjectId('67558dc7eeb7770cf0a37dfa'), ObjectId('67558dc7eeb7770cf0a37dfb'), ObjectId('67558dc7eeb7770cf0a37dfc'), ObjectId('67558dc7eeb7770cf0a37dfd'), ObjectId('67558dc7eeb7770cf0a37dfe'), ObjectId('67558dc7eeb7770cf0a37dff'), ObjectId('67558dc7eeb7770cf0a37e00'), ObjectId('67558dc7eeb7770cf0a37e01'), ObjectId('67558dc7eeb7770cf0a37e02'), ObjectId('67558dc7eeb7770cf0a37e03'), ObjectId('67558dc7eeb7770cf0a37e04'), ObjectId('67558dc7eeb7770cf0a37e05'), ObjectId('67558dc7eeb7770cf0a37e06'), ObjectId('67558dc7eeb7770cf0a37e07'), ObjectId('67558dc7eeb7770cf0a37e08'), ObjectId('67558dc7eeb7770cf0a37e09'), ObjectId('67558dc7eeb7770cf0a37e0a'), ObjectId('67558dc7eeb7770cf0a37e0b'), ObjectId('67558dc7eeb7770cf0a37e0c'), ObjectId('67558dc7eeb7770cf0a37e0d'), ObjectId('67558dc7eeb7770cf0a37e0e'), ObjectId('67558dc7eeb7770cf0a37e0f'), ObjectId('67558dc7eeb7770cf0a37e10'), ObjectId('67558dc7eeb7770cf0a37e11'), ObjectId('67558dc7eeb7770cf0a37e12'), ObjectId('67558dc7eeb7770cf0a37e13'), ObjectId('67558dc7eeb7770cf0a37e14'), ObjectId('67558dc7eeb7770cf0a37e15'), ObjectId('67558dc7eeb7770cf0a37e16'), ObjectId('67558dc7eeb7770cf0a37e17'), ObjectId('67558dc7eeb7770cf0a37e18'), ObjectId('67558dc7eeb7770cf0a37e19'), ObjectId('67558dc7eeb7770cf0a37e1a'), ObjectId('67558dc7eeb7770cf0a37e1b'), ObjectId('67558dc7eeb7770cf0a37e1c'), ObjectId('67558dc7eeb7770cf0a37e1d'), ObjectId('67558dc7eeb7770cf0a37e1e'), ObjectId('67558dc7eeb7770cf0a37e1f'), ObjectId('67558dc7eeb7770cf0a37e20'), ObjectId('67558dc7eeb7770cf0a37e21'), ObjectId('67558dc7eeb7770cf0a37e22'), ObjectId('67558dc7eeb7770cf0a37e23'), ObjectId('67558dc7eeb7770cf0a37e24'), ObjectId('67558dc7eeb7770cf0a37e25'), ObjectId('67558dc7eeb7770cf0a37e26'), ObjectId('67558dc7eeb7770cf0a37e27'), ObjectId('67558dc7eeb7770cf0a37e28'), ObjectId('67558dc7eeb7770cf0a37e29'), ObjectId('67558dc7eeb7770cf0a37e2a'), ObjectId('67558dc7eeb7770cf0a37e2c'), ObjectId('67558dc7eeb7770cf0a37e2d'), ObjectId('67558dc7eeb7770cf0a37e2e'), ObjectId('67558dc7eeb7770cf0a37e2f'), ObjectId('67558dc7eeb7770cf0a37e30'), ObjectId('67558dc7eeb7770cf0a37e31'), ObjectId('67558dc7eeb7770cf0a37e32'), ObjectId('67558dc7eeb7770cf0a37e33'), ObjectId('67558dc7eeb7770cf0a37e34'), ObjectId('67558dc7eeb7770cf0a37e35'), ObjectId('67558dc7eeb7770cf0a37e36'), ObjectId('67558dc7eeb7770cf0a37e37'), ObjectId('67558dc7eeb7770cf0a37e38'), ObjectId('67558dc7eeb7770cf0a37e39'), ObjectId('67558dc7eeb7770cf0a37e3a'), ObjectId('67558dc7eeb7770cf0a37e3b'), ObjectId('67558dc7eeb7770cf0a37e3c'), ObjectId('67558dc7eeb7770cf0a37e3d'), ObjectId('67558dc7eeb7770cf0a37e3e'), ObjectId('67558dc7eeb7770cf0a37e3f'), ObjectId('67558dc7eeb7770cf0a37e40'), ObjectId('67558dc7eeb7770cf0a37e41'), ObjectId('67558dc7eeb7770cf0a37e42'), ObjectId('67558dc7eeb7770cf0a37e43'), ObjectId('67558dc7eeb7770cf0a37e44'), ObjectId('67558dc7eeb7770cf0a37e45'), ObjectId('67558dc7eeb7770cf0a37e46'), ObjectId('67558dc7eeb7770cf0a37e47'), ObjectId('67558dc7eeb7770cf0a37e48'), ObjectId('67558dc7eeb7770cf0a37e49'), ObjectId('67558dc7eeb7770cf0a37e4a'), ObjectId('67558dc7eeb7770cf0a37e4b'), ObjectId('67558dc7eeb7770cf0a37e4c'), ObjectId('67558dc7eeb7770cf0a37e4d'), ObjectId('67558dc7eeb7770cf0a37e4e'), ObjectId('67558dc7eeb7770cf0a37e4f'), ObjectId('67558dc7eeb7770cf0a37e50'), ObjectId('67558dc7eeb7770cf0a37e51'), ObjectId('67558dc7eeb7770cf0a37e52'), ObjectId('67558dc7eeb7770cf0a37e53'), ObjectId('67558dc7eeb7770cf0a37e54'), ObjectId('67558dc7eeb7770cf0a37e55'), ObjectId('67558dc7eeb7770cf0a37e56'), ObjectId('67558dcceeb7770cf0a37e57'), ObjectId('67558dcceeb7770cf0a37e58'), ObjectId('67558dcceeb7770cf0a37e59'), ObjectId('67558dcceeb7770cf0a37e5a'), ObjectId('67558dcceeb7770cf0a37e5b'), ObjectId('67558dcceeb7770cf0a37e5c'), ObjectId('67558dcceeb7770cf0a37e5d'), ObjectId('67558dcceeb7770cf0a37e5e'), ObjectId('67558dcceeb7770cf0a37e5f'), ObjectId('67558dcceeb7770cf0a37e60'), ObjectId('67558dcceeb7770cf0a37e61'), ObjectId('67558dcceeb7770cf0a37e62'), ObjectId('67558dcceeb7770cf0a37e63'), ObjectId('67558dcceeb7770cf0a37e64'), ObjectId('67558dcceeb7770cf0a37e65'), ObjectId('67558dcceeb7770cf0a37e66'), ObjectId('67558dcceeb7770cf0a37e67'), ObjectId('67558dcceeb7770cf0a37e68'), ObjectId('67558dcceeb7770cf0a37e6a'), ObjectId('67558dcceeb7770cf0a37e6b'), ObjectId('67558dcceeb7770cf0a37e6c'), ObjectId('67558dcceeb7770cf0a37e6e'), ObjectId('67558dcceeb7770cf0a37e6f'), ObjectId('67558dcceeb7770cf0a37e70'), ObjectId('67558dcceeb7770cf0a37e71'), ObjectId('67558dcceeb7770cf0a37e72'), ObjectId('67558dcceeb7770cf0a37e73'), ObjectId('67558dcceeb7770cf0a37e74'), ObjectId('67558dcceeb7770cf0a37e75'), ObjectId('67558dcceeb7770cf0a37e76'), ObjectId('67558dcceeb7770cf0a37e77'), ObjectId('67558dcceeb7770cf0a37e78'), ObjectId('67558dcceeb7770cf0a37e79'), ObjectId('67558dcceeb7770cf0a37e7a'), ObjectId('67558dcceeb7770cf0a37e7b'), ObjectId('67558dcceeb7770cf0a37e7c'), ObjectId('67558dcceeb7770cf0a37e7d'), ObjectId('67558dcceeb7770cf0a37e7e'), ObjectId('67558dcceeb7770cf0a37e7f'), ObjectId('67558dcceeb7770cf0a37e80'), ObjectId('67558dcceeb7770cf0a37e81'), ObjectId('67558dcceeb7770cf0a37e82'), ObjectId('67558dcceeb7770cf0a37e83'), ObjectId('67558dcceeb7770cf0a37e84'), ObjectId('67558dcceeb7770cf0a37e85'), ObjectId('67558dcceeb7770cf0a37e86'), ObjectId('67558dcceeb7770cf0a37e87'), ObjectId('67558dcceeb7770cf0a37e88'), ObjectId('67558dcceeb7770cf0a37e89'), ObjectId('67558dcceeb7770cf0a37e8a'), ObjectId('67558dcceeb7770cf0a37e8b'), ObjectId('67558dcceeb7770cf0a37e8c'), ObjectId('67558dcceeb7770cf0a37e8d'), ObjectId('67558dcceeb7770cf0a37e8e'), ObjectId('67558dcceeb7770cf0a37e8f'), ObjectId('67558dcceeb7770cf0a37e90'), ObjectId('67558dcceeb7770cf0a37e91'), ObjectId('67558dcceeb7770cf0a37e92'), ObjectId('67558dcceeb7770cf0a37e93'), ObjectId('67558dcceeb7770cf0a37e94'), ObjectId('67558dcceeb7770cf0a37e95'), ObjectId('67558dcceeb7770cf0a37e96'), ObjectId('67558dcceeb7770cf0a37e97'), ObjectId('67558dcceeb7770cf0a37e98'), ObjectId('67558dcceeb7770cf0a37e99'), ObjectId('67558dcceeb7770cf0a37e9a'), ObjectId('67558dcceeb7770cf0a37e9b'), ObjectId('67558dcceeb7770cf0a37e9c'), ObjectId('67558dcceeb7770cf0a37e9d'), ObjectId('67558dcceeb7770cf0a37e9e'), ObjectId('67558dcceeb7770cf0a37e9f'), ObjectId('67558dcceeb7770cf0a37ea0'), ObjectId('67558dcceeb7770cf0a37ea1'), ObjectId('67558dcceeb7770cf0a37ea2'), ObjectId('67558dcceeb7770cf0a37ea3'), ObjectId('67558dcceeb7770cf0a37ea4'), ObjectId('67558dcceeb7770cf0a37ea5'), ObjectId('67558dcceeb7770cf0a37ea6'), ObjectId('67558dcceeb7770cf0a37ea7'), ObjectId('67558dcceeb7770cf0a37ea8'), ObjectId('67558dcceeb7770cf0a37ea9'), ObjectId('67558dcceeb7770cf0a37eaa'), ObjectId('67558dcceeb7770cf0a37eab'), ObjectId('67558dcceeb7770cf0a37eac'), ObjectId('67558dcceeb7770cf0a37ead'), ObjectId('67558dcceeb7770cf0a37eae'), ObjectId('67558dcceeb7770cf0a37eaf'), ObjectId('67558dcceeb7770cf0a37eb0'), ObjectId('67558dcceeb7770cf0a37eb1'), ObjectId('67558dcceeb7770cf0a37eb2'), ObjectId('67558dcceeb7770cf0a37eb3'), ObjectId('67558dcceeb7770cf0a37eb4'), ObjectId('67558dcceeb7770cf0a37eb5'), ObjectId('67558dcceeb7770cf0a37eb6'), ObjectId('67558dcceeb7770cf0a37eb7'), ObjectId('67558dcceeb7770cf0a37eb8'), ObjectId('67558dcceeb7770cf0a37eb9'), ObjectId('67558dcceeb7770cf0a37eba'), ObjectId('67558dd1eeb7770cf0a37ebb'), ObjectId('67558dd1eeb7770cf0a37ebc'), ObjectId('67558dd1eeb7770cf0a37ebd'), ObjectId('67558dd1eeb7770cf0a37ebe'), ObjectId('67558dd1eeb7770cf0a37ebf'), ObjectId('67558dd1eeb7770cf0a37ec0'), ObjectId('67558dd1eeb7770cf0a37ec1'), ObjectId('67558dd1eeb7770cf0a37ec2'), ObjectId('67558dd1eeb7770cf0a37ec3'), ObjectId('67558dd1eeb7770cf0a37ec4'), ObjectId('67558dd1eeb7770cf0a37ec5'), ObjectId('67558dd1eeb7770cf0a37ec6'), ObjectId('67558dd1eeb7770cf0a37ec7'), ObjectId('67558dd1eeb7770cf0a37ec8'), ObjectId('67558dd1eeb7770cf0a37ec9'), ObjectId('67558dd1eeb7770cf0a37eca'), ObjectId('67558dd1eeb7770cf0a37ecb'), ObjectId('67558dd1eeb7770cf0a37ecc'), ObjectId('67558dd1eeb7770cf0a37ecd'), ObjectId('67558dd1eeb7770cf0a37ecf'), ObjectId('67558dd1eeb7770cf0a37ed0'), ObjectId('67558dd1eeb7770cf0a37ed1'), ObjectId('67558dd1eeb7770cf0a37ed2'), ObjectId('67558dd1eeb7770cf0a37ed3'), ObjectId('67558dd1eeb7770cf0a37ed4'), ObjectId('67558dd1eeb7770cf0a37ed5'), ObjectId('67558dd1eeb7770cf0a37ed6'), ObjectId('67558dd1eeb7770cf0a37ed7'), ObjectId('67558dd1eeb7770cf0a37ed8'), ObjectId('67558dd1eeb7770cf0a37ed9'), ObjectId('67558dd1eeb7770cf0a37eda'), ObjectId('67558dd1eeb7770cf0a37edb'), ObjectId('67558dd1eeb7770cf0a37edc'), ObjectId('67558dd1eeb7770cf0a37edd'), ObjectId('67558dd1eeb7770cf0a37ede'), ObjectId('67558dd1eeb7770cf0a37edf'), ObjectId('67558dd1eeb7770cf0a37ee0'), ObjectId('67558dd1eeb7770cf0a37ee1'), ObjectId('67558dd1eeb7770cf0a37ee2'), ObjectId('67558dd1eeb7770cf0a37ee3'), ObjectId('67558dd1eeb7770cf0a37ee4'), ObjectId('67558dd1eeb7770cf0a37ee5'), ObjectId('67558dd1eeb7770cf0a37ee6'), ObjectId('67558dd1eeb7770cf0a37ee7'), ObjectId('67558dd1eeb7770cf0a37ee8'), ObjectId('67558dd1eeb7770cf0a37ee9'), ObjectId('67558dd1eeb7770cf0a37eea'), ObjectId('67558dd1eeb7770cf0a37eeb'), ObjectId('67558dd1eeb7770cf0a37eec'), ObjectId('67558dd1eeb7770cf0a37eed'), ObjectId('67558dd1eeb7770cf0a37eee'), ObjectId('67558dd1eeb7770cf0a37eef'), ObjectId('67558dd1eeb7770cf0a37ef0'), ObjectId('67558dd1eeb7770cf0a37ef1'), ObjectId('67558dd1eeb7770cf0a37ef2'), ObjectId('67558dd1eeb7770cf0a37ef3'), ObjectId('67558dd1eeb7770cf0a37ef4'), ObjectId('67558dd1eeb7770cf0a37ef5'), ObjectId('67558dd1eeb7770cf0a37ef6'), ObjectId('67558dd1eeb7770cf0a37ef7'), ObjectId('67558dd1eeb7770cf0a37ef8'), ObjectId('67558dd1eeb7770cf0a37ef9'), ObjectId('67558dd1eeb7770cf0a37efa'), ObjectId('67558dd1eeb7770cf0a37efb'), ObjectId('67558dd1eeb7770cf0a37efc'), ObjectId('67558dd1eeb7770cf0a37efd'), ObjectId('67558dd1eeb7770cf0a37efe'), ObjectId('67558dd1eeb7770cf0a37eff'), ObjectId('67558dd1eeb7770cf0a37f00'), ObjectId('67558dd1eeb7770cf0a37f01'), ObjectId('67558dd1eeb7770cf0a37f02'), ObjectId('67558dd1eeb7770cf0a37f03'), ObjectId('67558dd1eeb7770cf0a37f04'), ObjectId('67558dd1eeb7770cf0a37f05'), ObjectId('67558dd1eeb7770cf0a37f06'), ObjectId('67558dd1eeb7770cf0a37f07'), ObjectId('67558dd1eeb7770cf0a37f08'), ObjectId('67558dd1eeb7770cf0a37f09'), ObjectId('67558dd1eeb7770cf0a37f0a'), ObjectId('67558dd1eeb7770cf0a37f0b'), ObjectId('67558dd1eeb7770cf0a37f0c'), ObjectId('67558dd1eeb7770cf0a37f0d'), ObjectId('67558dd1eeb7770cf0a37f0e'), ObjectId('67558dd1eeb7770cf0a37f0f'), ObjectId('67558dd1eeb7770cf0a37f10'), ObjectId('67558dd1eeb7770cf0a37f11'), ObjectId('67558dd1eeb7770cf0a37f12'), ObjectId('67558dd1eeb7770cf0a37f13'), ObjectId('67558dd1eeb7770cf0a37f14'), ObjectId('67558dd1eeb7770cf0a37f16'), ObjectId('67558dd1eeb7770cf0a37f18'), ObjectId('67558dd1eeb7770cf0a37f19'), ObjectId('67558dd1eeb7770cf0a37f1a'), ObjectId('67558dd1eeb7770cf0a37f1b'), ObjectId('67558dd1eeb7770cf0a37f1c'), ObjectId('67558dd1eeb7770cf0a37f1d'), ObjectId('67558dd1eeb7770cf0a37f1e'), ObjectId('67558dd6eeb7770cf0a37f1f'), ObjectId('67558dd6eeb7770cf0a37f20'), ObjectId('67558dd6eeb7770cf0a37f21'), ObjectId('67558dd6eeb7770cf0a37f22'), ObjectId('67558dd6eeb7770cf0a37f23'), ObjectId('67558dd6eeb7770cf0a37f24'), ObjectId('67558dd6eeb7770cf0a37f25'), ObjectId('67558dd6eeb7770cf0a37f26'), ObjectId('67558dd6eeb7770cf0a37f27'), ObjectId('67558dd6eeb7770cf0a37f28'), ObjectId('67558dd6eeb7770cf0a37f29'), ObjectId('67558dd6eeb7770cf0a37f2a'), ObjectId('67558dd6eeb7770cf0a37f2b'), ObjectId('67558dd6eeb7770cf0a37f2c'), ObjectId('67558dd6eeb7770cf0a37f2d'), ObjectId('67558dd6eeb7770cf0a37f2e'), ObjectId('67558dd6eeb7770cf0a37f2f'), ObjectId('67558dd6eeb7770cf0a37f30'), ObjectId('67558dd6eeb7770cf0a37f31'), ObjectId('67558dd6eeb7770cf0a37f32'), ObjectId('67558dd6eeb7770cf0a37f33'), ObjectId('67558dd6eeb7770cf0a37f34'), ObjectId('67558dd6eeb7770cf0a37f35'), ObjectId('67558dd6eeb7770cf0a37f36'), ObjectId('67558dd6eeb7770cf0a37f37'), ObjectId('67558dd6eeb7770cf0a37f38'), ObjectId('67558dd6eeb7770cf0a37f39'), ObjectId('67558dd6eeb7770cf0a37f3a'), ObjectId('67558dd6eeb7770cf0a37f3b'), ObjectId('67558dd6eeb7770cf0a37f3c'), ObjectId('67558dd6eeb7770cf0a37f3d'), ObjectId('67558dd6eeb7770cf0a37f3e'), ObjectId('67558dd6eeb7770cf0a37f3f'), ObjectId('67558dd6eeb7770cf0a37f40'), ObjectId('67558dd6eeb7770cf0a37f41'), ObjectId('67558dd6eeb7770cf0a37f42'), ObjectId('67558dd6eeb7770cf0a37f43'), ObjectId('67558dd6eeb7770cf0a37f44'), ObjectId('67558dd6eeb7770cf0a37f45'), ObjectId('67558dd6eeb7770cf0a37f46'), ObjectId('67558dd6eeb7770cf0a37f47'), ObjectId('67558dd6eeb7770cf0a37f48'), ObjectId('67558dd6eeb7770cf0a37f49'), ObjectId('67558dd6eeb7770cf0a37f4a'), ObjectId('67558dd6eeb7770cf0a37f4b'), ObjectId('67558dd6eeb7770cf0a37f4c'), ObjectId('67558dd6eeb7770cf0a37f4d'), ObjectId('67558dd6eeb7770cf0a37f4e'), ObjectId('67558dd6eeb7770cf0a37f4f'), ObjectId('67558dd6eeb7770cf0a37f50'), ObjectId('67558dd6eeb7770cf0a37f51'), ObjectId('67558dd6eeb7770cf0a37f52'), ObjectId('67558dd6eeb7770cf0a37f53'), ObjectId('67558dd6eeb7770cf0a37f54'), ObjectId('67558dd6eeb7770cf0a37f55'), ObjectId('67558dd6eeb7770cf0a37f56'), ObjectId('67558dd6eeb7770cf0a37f57'), ObjectId('67558dd6eeb7770cf0a37f58'), ObjectId('67558dd6eeb7770cf0a37f59'), ObjectId('67558dd6eeb7770cf0a37f5a'), ObjectId('67558dd6eeb7770cf0a37f5b'), ObjectId('67558dd6eeb7770cf0a37f5c'), ObjectId('67558dd6eeb7770cf0a37f5d'), ObjectId('67558dd6eeb7770cf0a37f5e'), ObjectId('67558dd6eeb7770cf0a37f5f'), ObjectId('67558dd6eeb7770cf0a37f60'), ObjectId('67558dd6eeb7770cf0a37f61'), ObjectId('67558dd6eeb7770cf0a37f62'), ObjectId('67558dd6eeb7770cf0a37f63'), ObjectId('67558dd6eeb7770cf0a37f64'), ObjectId('67558dd6eeb7770cf0a37f65'), ObjectId('67558dd6eeb7770cf0a37f66'), ObjectId('67558dd6eeb7770cf0a37f67'), ObjectId('67558dd6eeb7770cf0a37f68'), ObjectId('67558dd6eeb7770cf0a37f69'), ObjectId('67558dd6eeb7770cf0a37f6a'), ObjectId('67558dd6eeb7770cf0a37f6b'), ObjectId('67558dd6eeb7770cf0a37f6c'), ObjectId('67558dd6eeb7770cf0a37f6d'), ObjectId('67558dd6eeb7770cf0a37f6e'), ObjectId('67558dd6eeb7770cf0a37f6f'), ObjectId('67558dd6eeb7770cf0a37f70'), ObjectId('67558dd6eeb7770cf0a37f71'), ObjectId('67558dd6eeb7770cf0a37f72'), ObjectId('67558dd6eeb7770cf0a37f73'), ObjectId('67558dd6eeb7770cf0a37f74'), ObjectId('67558dd6eeb7770cf0a37f75'), ObjectId('67558dd6eeb7770cf0a37f76'), ObjectId('67558dd6eeb7770cf0a37f77'), ObjectId('67558dd6eeb7770cf0a37f78'), ObjectId('67558dd6eeb7770cf0a37f79'), ObjectId('67558dd6eeb7770cf0a37f7a'), ObjectId('67558dd6eeb7770cf0a37f7b'), ObjectId('67558dd6eeb7770cf0a37f7c'), ObjectId('67558dd6eeb7770cf0a37f7d'), ObjectId('67558dd6eeb7770cf0a37f7e'), ObjectId('67558dd6eeb7770cf0a37f7f'), ObjectId('67558dd6eeb7770cf0a37f81'), ObjectId('67558dd6eeb7770cf0a37f82'), ObjectId('67558ddbeeb7770cf0a37f83'), ObjectId('67558ddbeeb7770cf0a37f84'), ObjectId('67558ddbeeb7770cf0a37f85'), ObjectId('67558ddbeeb7770cf0a37f86'), ObjectId('67558ddbeeb7770cf0a37f87'), ObjectId('67558ddbeeb7770cf0a37f88'), ObjectId('67558ddbeeb7770cf0a37f89'), ObjectId('67558ddbeeb7770cf0a37f8a'), ObjectId('67558ddbeeb7770cf0a37f8b'), ObjectId('67558ddbeeb7770cf0a37f8c'), ObjectId('67558ddbeeb7770cf0a37f8d'), ObjectId('67558ddbeeb7770cf0a37f8e'), ObjectId('67558ddbeeb7770cf0a37f8f'), ObjectId('67558ddbeeb7770cf0a37f90'), ObjectId('67558ddbeeb7770cf0a37f91'), ObjectId('67558ddbeeb7770cf0a37f92'), ObjectId('67558ddbeeb7770cf0a37f93'), ObjectId('67558ddbeeb7770cf0a37f94'), ObjectId('67558ddbeeb7770cf0a37f95'), ObjectId('67558ddbeeb7770cf0a37f96'), ObjectId('67558ddbeeb7770cf0a37f97'), ObjectId('67558ddbeeb7770cf0a37f98'), ObjectId('67558ddbeeb7770cf0a37f99'), ObjectId('67558ddbeeb7770cf0a37f9a'), ObjectId('67558ddbeeb7770cf0a37f9b'), ObjectId('67558ddbeeb7770cf0a37f9c'), ObjectId('67558ddbeeb7770cf0a37f9d'), ObjectId('67558ddbeeb7770cf0a37f9e'), ObjectId('67558ddbeeb7770cf0a37f9f'), ObjectId('67558ddbeeb7770cf0a37fa0'), ObjectId('67558ddbeeb7770cf0a37fa1'), ObjectId('67558ddbeeb7770cf0a37fa2'), ObjectId('67558ddbeeb7770cf0a37fa3'), ObjectId('67558ddbeeb7770cf0a37fa4'), ObjectId('67558ddbeeb7770cf0a37fa5'), ObjectId('67558ddbeeb7770cf0a37fa6'), ObjectId('67558ddbeeb7770cf0a37fa7'), ObjectId('67558ddbeeb7770cf0a37fa8'), ObjectId('67558ddbeeb7770cf0a37fa9'), ObjectId('67558ddbeeb7770cf0a37faa'), ObjectId('67558ddbeeb7770cf0a37fab'), ObjectId('67558ddbeeb7770cf0a37fac'), ObjectId('67558ddbeeb7770cf0a37fad'), ObjectId('67558ddbeeb7770cf0a37fae'), ObjectId('67558ddbeeb7770cf0a37faf'), ObjectId('67558ddbeeb7770cf0a37fb0'), ObjectId('67558ddbeeb7770cf0a37fb1'), ObjectId('67558ddbeeb7770cf0a37fb2'), ObjectId('67558ddbeeb7770cf0a37fb3'), ObjectId('67558ddbeeb7770cf0a37fb4'), ObjectId('67558ddbeeb7770cf0a37fb6'), ObjectId('67558ddbeeb7770cf0a37fb7'), ObjectId('67558ddbeeb7770cf0a37fb8'), ObjectId('67558ddbeeb7770cf0a37fb9'), ObjectId('67558ddbeeb7770cf0a37fba'), ObjectId('67558ddbeeb7770cf0a37fbb'), ObjectId('67558ddbeeb7770cf0a37fbc'), ObjectId('67558ddbeeb7770cf0a37fbd'), ObjectId('67558ddbeeb7770cf0a37fbe'), ObjectId('67558ddbeeb7770cf0a37fc0'), ObjectId('67558ddbeeb7770cf0a37fc1'), ObjectId('67558ddbeeb7770cf0a37fc2'), ObjectId('67558ddbeeb7770cf0a37fc3'), ObjectId('67558ddbeeb7770cf0a37fc4'), ObjectId('67558ddbeeb7770cf0a37fc5'), ObjectId('67558ddbeeb7770cf0a37fc6'), ObjectId('67558ddbeeb7770cf0a37fc7'), ObjectId('67558ddbeeb7770cf0a37fc8'), ObjectId('67558ddbeeb7770cf0a37fc9'), ObjectId('67558ddbeeb7770cf0a37fcb'), ObjectId('67558ddbeeb7770cf0a37fcc'), ObjectId('67558ddbeeb7770cf0a37fcd'), ObjectId('67558ddbeeb7770cf0a37fce'), ObjectId('67558ddbeeb7770cf0a37fcf'), ObjectId('67558ddbeeb7770cf0a37fd0'), ObjectId('67558ddbeeb7770cf0a37fd1'), ObjectId('67558ddbeeb7770cf0a37fd2'), ObjectId('67558ddbeeb7770cf0a37fd3'), ObjectId('67558ddbeeb7770cf0a37fd4'), ObjectId('67558ddbeeb7770cf0a37fd5'), ObjectId('67558ddbeeb7770cf0a37fd6'), ObjectId('67558ddbeeb7770cf0a37fd7'), ObjectId('67558ddbeeb7770cf0a37fd8'), ObjectId('67558ddbeeb7770cf0a37fd9'), ObjectId('67558ddbeeb7770cf0a37fda'), ObjectId('67558ddbeeb7770cf0a37fdb'), ObjectId('67558ddbeeb7770cf0a37fdc'), ObjectId('67558ddbeeb7770cf0a37fdd')], acknowledged=True)"
      ]
     },
     "execution_count": 9,
     "metadata": {},
     "output_type": "execute_result"
    }
   ],
   "source": [
    "new_post_db = db['post_new_final']\n",
    "new_post_db.insert_many(df.to_dict('records'))"
   ]
  },
  {
   "cell_type": "code",
   "execution_count": 10,
   "metadata": {},
   "outputs": [
    {
     "name": "stdout",
     "output_type": "stream",
     "text": [
      "30\n"
     ]
    }
   ],
   "source": [
    "comments_db = db['comments_db']\n",
    "comms = comments_db.find()\n",
    "comms = list(comms)\n",
    "print(len(comms))"
   ]
  },
  {
   "cell_type": "code",
   "execution_count": 11,
   "metadata": {},
   "outputs": [
    {
     "name": "stdout",
     "output_type": "stream",
     "text": [
      "3\n"
     ]
    }
   ],
   "source": [
    "df2 = pd.DataFrame(comms)\n",
    "df2 = df2.drop_duplicates(subset=['parent_id'])\n",
    "print(len(df2))"
   ]
  },
  {
   "cell_type": "code",
   "execution_count": 8,
   "metadata": {},
   "outputs": [],
   "source": [
    "df.to_csv('final.csv', index=False)"
   ]
  },
  {
   "cell_type": "code",
   "execution_count": 20,
   "metadata": {},
   "outputs": [],
   "source": [
    "def update_post(post):\n",
    "    try:\n",
    "        post_db.update_one({'id':post['id']},{'$set':{'response':post['response']}},upsert=True)\n",
    "        # print(f'Post updated [{post[\"id\"]}]')\n",
    "    except Exception as e:\n",
    "        print(e)"
   ]
  },
  {
   "cell_type": "code",
   "execution_count": 23,
   "metadata": {},
   "outputs": [
    {
     "name": "stdout",
     "output_type": "stream",
     "text": [
      "1. title:Do you think this startup is worth continuing?,response:question\n",
      "2. title:Finally launched my LinkedIn AI chatbot!,response:experience\n",
      "3. title:Finally!! I launched it after months ,response:experience\n",
      "4. title:Struggling with Low Conversions? Here’s How Startup-Specific Copy Can Help,response:question\n",
      "5. title:Im so impatient and its killing me,response:question\n"
     ]
    }
   ],
   "source": [
    "count = 0\n",
    "for i in rec[:5]:\n",
    "    chat_response = client.agents.complete(\n",
    "        agent_id=agent_id,\n",
    "        messages=[\n",
    "            {\n",
    "                \"role\": \"user\",\n",
    "                \"content\": f\"post_id:{i['id']},title: {i['title']},body: {i['selftext']}\" ,\n",
    "            },\n",
    "        ],\n",
    "    )\n",
    "    response = eval(chat_response.choices[0].message.content)\n",
    "    i['response'] = response['flag']\n",
    "    update_post(i) \n",
    "    count += 1\n",
    "    print(f'{count}. title:{i[\"title\"]},response:{response[\"flag\"]}')"
   ]
  },
  {
   "cell_type": "code",
   "execution_count": 12,
   "metadata": {},
   "outputs": [],
   "source": [
    "import praw\n",
    "\n",
    "# Reddit API credentials\n",
    "\n",
    "# Reddit API credentials\n",
    "client_id       = \"13ebR3osBuMhCFhRN8NtBw\"\n",
    "client_secret   = \"4KvI1iGAGrwhtt_2qvkqOOW09c6vCQ\"\n",
    "user_agent      = \"extractor by u/VishwanathAS\"\n",
    "\n",
    "# Initialize the Reddit instance\n",
    "reddit = praw.Reddit(\n",
    "    client_id=client_id,\n",
    "    client_secret=client_secret,\n",
    "    user_agent=user_agent\n",
    ")"
   ]
  },
  {
   "cell_type": "code",
   "execution_count": 13,
   "metadata": {},
   "outputs": [],
   "source": [
    "def scrape_reddit_comments(post_id):\n",
    "    \"\"\"\n",
    "    Scrape comments from a Reddit post using its post ID.\n",
    "    Args:\n",
    "        post_id (str): The Reddit post ID.\n",
    "    Returns:\n",
    "        list: A list of comments from the post.\n",
    "    \"\"\"\n",
    "    try:\n",
    "        # Get the submission object using the post ID\n",
    "        submission = reddit.submission(id=post_id)\n",
    "        submission.comments.replace_more(limit=25)  # Remove \"more comments\"\n",
    "        \n",
    "        comments = []\n",
    "        for comment in submission.comments.list():\n",
    "            comments.append(comment.body)\n",
    "        \n",
    "        return comments\n",
    "\n",
    "    except Exception as e:\n",
    "        print(f\"An error occurred: {e}\")\n",
    "        return []"
   ]
  },
  {
   "cell_type": "code",
   "execution_count": null,
   "metadata": {},
   "outputs": [],
   "source": [
    "post_id = df['id'][0]  # Replace with the actual post ID\n",
    "    \n",
    "for post_id in df['id'][0:5]:\n",
    "    comments = scrape_reddit_comments(post_id)\n",
    "\n",
    "if comments:\n",
    "    print(\"Comments scraped successfully:\")\n",
    "    for i, comment in enumerate(comments[:10], 1):  # Display first 10 comments\n",
    "        print(f\"{i}. {comment}\\n\")\n",
    "else:\n",
    "    print(\"No comments found or an error occurred.\")"
   ]
  },
  {
   "cell_type": "code",
   "execution_count": 25,
   "metadata": {},
   "outputs": [
    {
     "data": {
      "text/plain": [
       "'1h9gtbi'"
      ]
     },
     "execution_count": 25,
     "metadata": {},
     "output_type": "execute_result"
    }
   ],
   "source": [
    "df['id'][0]"
   ]
  },
  {
   "cell_type": "code",
   "execution_count": null,
   "metadata": {},
   "outputs": [],
   "source": [
    "import requests\n",
    "\n",
    "url = \"http://localhost:5678/webhook/post_comm\"\n",
    "test_url=\"http://localhost:5678/webhook-test/post_comm\"\n",
    "count = 0\n",
    "for i in range(len(df)):\n",
    "    count += 1\n",
    "    if df['num_comments'][i] <= 0:\n",
    "        print(f'{i} has no comments')\n",
    "        continue\n",
    "    body = {\n",
    "        \"post_id\": df['id'][i],\n",
    "        }\n",
    "    resp = requests.post(url, body)\n",
    "    print(f'{count}. {resp.text}')\n",
    "    time.sleep(2)"
   ]
  },
  {
   "cell_type": "code",
   "execution_count": 7,
   "metadata": {},
   "outputs": [
    {
     "name": "stdout",
     "output_type": "stream",
     "text": [
      "1370\n",
      "['1h9gtbi', '1h9e0an', '1h9cua9', '1h9achm', '1h9ac56', '1h980yx', '1h96sie', '1h96sbl', '1h96d8c', '1h965rt', '1h94vta', '1h94egx', '1h9347e', '1h92zk6', '1h91q7g', '1h913zy', '1h90nxb', '1h8wpup', '1h8wajl', '1h8u5d3', '1h8tnov', '1h8tgei', '1h8ss1k', '1h8r9fp', '1h8qq7b', '1h8pt5k', '1h8prw9', '1h8mm84', '1h8kbbb', '1h8jv31', '1h8iw8c', '1h8ivih', '1h8iqv1', '1h8h50y', '1h8glkz', '1h8g50t', '1h8cue9', '1h8cmw5', '1h8b5hh', '1h8b1ik', '1h8b03i', '1h8aj0a', '1h892yq', '1h88f75', '1h87kt3', '1h87a6u', '1h848tt', '1h829qs', '1h81uv4', '1h813eu', '1h80z8i', '1h7z0oa', '1h7x1in', '1h7vtze', '1h7ups3', '1h7sz7d', '1h7swwh', '1h7qtzb', '1h7pwsc', '1h7o9vp', '1h7naik', '1h7na49', '1h7lbr2', '1h7kz6j', '1h7kb2v', '1h7k5e0', '1h7jhe7', '1h7h4re', '1h7g55b', '1h7f9zv', '1h7eo7c', '1h7dvkr', '1h7aic5', '1h7a4sa', '1h74irl', '1h745jt', '1h71115', '1h6zf4y', '1h6yt0d', '1h6xbny', '1h6vx4p', '1h6vhar', '1h6rslq', '1h6rank', '1h6r9vv', '1h6pm9q', '1h6nfv4', '1h6layg', '1h6k53z', '1h6hqyr', '1gxeed8', '1gyp6rj', '1gx99hn', '1grh9vd', '1gluuez', '1gvyc2g', '1gugq9h', '1givx1n', '1gq0oi1', '1ggj9hy', '1guba5q', '1gs0qin', '1glohoc', '1gku2q8', '1guyl1t', '1gwd7rc', '1gup4hz', '1h46coq', '1gxot44', '1gsybnq', '1glugxu', '1gtq4ro', '1gwbx4d', '1gk5yse', '1h3spxx', '1gkfqid', '1gzh3p3', '1gvqe7z', '1gusv26', '1gpkb66', '1gmb1qq', '1h30l4p', '1h15o3t', '1gtqc8h', '1gryu3z', '1gl1cb8', '1h5i7qc', '1gx3gu3', '1grp8vb', '1go70n8', '1gsr9kz', '1go3mqi', '1gnz3iy', '1grxlvq', '1gh5xhk', '1h0twkj', '1gib9cl', '1gs3osw', '1h4cuu8', '1h5l966', '1gm52ud', '1ggn88j', '1gzn4mv', '1gw4qm6', '1gr8wc4', '1giexo1', '1goykqm', '1glifnw', '1gg25vh', '1gp3bot', '1gvpgs1', '1gmpn11', '1h3w1t1', '1h5vtd2', '1gzk71s', '1gq3vod', '1gt1szc', '1gw0n5m', '1h2ur1l', '1ggni5y']\n",
      "715\n"
     ]
    }
   ],
   "source": [
    "comments_db = db['comment_db']\n",
    "comms = comments_db.find()\n",
    "comms = list(comms)\n",
    "print(len(comms))\n",
    "df2 = pd.DataFrame(comms)\n",
    "df2 = df2.drop_duplicates(subset=['parent_id'])\n",
    "len(df2)\n",
    "comm__post_ids = df2['parent_id'].tolist()\n",
    "comm__post_ids = [i.split('_')[1] for i in comm__post_ids]\n",
    "print(comm__post_ids)\n",
    "\n",
    "\n",
    "remaining_post_ids = list(set(df['id'].tolist()) - set(comm__post_ids))\n",
    "print(len(remaining_post_ids))"
   ]
  },
  {
   "cell_type": "code",
   "execution_count": 12,
   "metadata": {},
   "outputs": [
    {
     "data": {
      "text/plain": [
       "np.int64(6)"
      ]
     },
     "execution_count": 12,
     "metadata": {},
     "output_type": "execute_result"
    }
   ],
   "source": [
    "post_id ='1h9gtbi'\n",
    "res = df[df['id'] == post_id]['num_comments'].values[0]\n",
    "res"
   ]
  },
  {
   "cell_type": "code",
   "execution_count": 8,
   "metadata": {},
   "outputs": [
    {
     "name": "stdout",
     "output_type": "stream",
     "text": [
      "1h5zslp has no comments\n",
      "1glncg3. {\"comm_id\":\"lvvjo2j\",\"body\":\"Hey you can check grant page of techuplabs. Page :  techuplabs\\\\[dot\\\\]com/startup-business-grants\",\"parent_id\":\"t3_1glncg3\",\"_id\":\"675c8225a25f65c1ac0b3709\",\"id\":\"675c8225a25f65c1ac0b3709\"}\n",
      "1h3put5. {\"comm_id\":\"lzsoq5r\",\"body\":\"Man I have been just thinking about this today and you said it. \\n\\nI have been focusing so much on the “lady in the red dress” lately with beautiful dashboards, building private solution instead of using paid APIs and all that tech stacks adds up. \\n\\nThen it hit me to just build SOMETHING and ship and be in a position to add one feature a week that’s it instead of cramming everything together in an MVP.\",\"parent_id\":\"t3_1h3put5\",\"_id\":\"675c8228a25f65c1ac0b370d\",\"id\":\"675c8228a25f65c1ac0b370d\"}\n",
      "1gq7y84. {\"comm_id\":\"lwwbjth\",\"body\":\"We just finished raising a pre-seed so I can share a bit about how we approached it. This is my first time as a founder so I’m by no means an expert. \\n\\nFirst off, a lot of this can be up to you. This will be your company so you can make decisions that you feel are in the best interest of the company. If you’re not full time in the project you may have a harder time raising money. \\n\\nWe raised our round with a SAFE. There are several sites that can handle the paperwork on a SAFE easily and it made the round very smooth. Investors sign the paperwork and wire the money as soon as they are able. We fundraiser for about 3 months and ended up about 10% over subscribed. \\n\\nFor your salary I think that’s a big decision for a founder and is something you’ll have to decide based on your own situation. You have to be able to live so if you don’t take enough of a salary to live then you’ll be spending your time figuring out how to survive and not building the company. My partner and I pay ourselves well. Other founders take all of the money and put it into the business. Obviously how you compensate yourself affects runway. \\n\\nIn terms of how much to target for a runway that probably depends on your business as well. We’re building something that will take some time to produce in the physical world so we raised a few years worth. If you’re building something small and can have it done in a few months then you’ll won’t need to dilute yourself as much. Our target dilution for pre-seed was 20%. We ended up a bit over but not too bad. \\n\\nVCs don’t get a vote in how you spend your money. We’ve agreed to periodic business updates with our larger investors but you don’t have to ask permission to allocate funds how you feel will be best for your company. \\n\\nWe’re SF based so all of my experience and info is based on what is currently happening in the bay. Your experience in the UK will almost certainly be different (although we interestingly have a few investors from across the pond so maybe not a ton). \\n\\nGood luck.\",\"parent_id\":\"t3_1gq7y84\",\"_id\":\"675c822ba25f65c1ac0b3715\",\"id\":\"675c822ba25f65c1ac0b3715\"}\n",
      "1h4306p. {\"comm_id\":\"lzwlmvc\",\"body\":\"Apply for Azure, AWS, and GCP startup credits. That'll save you in initial cost. \\n\\nPurchasing your own hardware is never a bad way to go. I use my own 3090 clusters.\",\"parent_id\":\"t3_1h4306p\",\"_id\":\"675c822ea25f65c1ac0b371a\",\"id\":\"675c822ea25f65c1ac0b371a\"}\n",
      "1gubsvq. {\"comm_id\":\"lxt82ed\",\"body\":\"Said from a much longer perspective: People lack experience, and you can’t package that for them.\\n\\nNo matter how many tools you build, no matter how amazing wikis you create, no matter how much you fine tune and update different services, there’s no solution. Because at the end of the day experience, personality, and network, are the keys; and that can’t be packaged into a digital tool.\\n\\nSo pick any problem you find, and just launch an mvp. Your challenge isn’t to find the perfect idea, your challenge is to market the hell out of an mvp to evaluate the response you’re getting. \",\"parent_id\":\"t3_1gubsvq\",\"_id\":\"675c8230a25f65c1ac0b371e\",\"id\":\"675c8230a25f65c1ac0b371e\"}\n",
      "1grc4dm. {\"comm_id\":\"lx52yza\",\"body\":\"I wouldn't hesitate to recommend David and Tomi at https://aminocreates.com/\\n\\nReally nice, genuine people with some art and style.\",\"parent_id\":\"t3_1grc4dm\",\"_id\":\"675c8233a25f65c1ac0b372d\",\"id\":\"675c8233a25f65c1ac0b372d\"}\n",
      "1h0wnn5. {\"comm_id\":\"lz8ze01\",\"body\":\"I have a landing page, but if you could help make it better investinrvparks.com\",\"parent_id\":\"t3_1h0wnn5\",\"_id\":\"675c8236a25f65c1ac0b3730\",\"id\":\"675c8236a25f65c1ac0b3730\"}\n",
      "1h09972. {\"comm_id\":\"lz244w7\",\"body\":\"I do agree that you have identified a real problem, and what existing tools cannot provide which is customization. \\n\\nI would like to ask some questions though. \\n\\nDo you focus on any specific industry? \\n\\nDo you plan to focus on smaller companies? \\n\\nAnd do you know what your competitors, the ones who already provide tools with poor customization, are on the same path as you are and are developing similar capabilities as well?\",\"parent_id\":\"t3_1h09972\",\"_id\":\"675c8239a25f65c1ac0b3754\",\"id\":\"675c8239a25f65c1ac0b3754\"}\n",
      "1gmtdax has no comments\n",
      "1gwglqx. {\"comm_id\":\"ly958um\",\"body\":\"Why would incorporation costs differ for your industry vertical?\",\"parent_id\":\"t3_1gwglqx\",\"_id\":\"675c823ca25f65c1ac0b3755\",\"id\":\"675c823ca25f65c1ac0b3755\"}\n",
      "1h5ts80. {\"comm_id\":\"m08iho7\",\"body\":\"Log in with Google etc. is just 1 click, care to enlighten us on how you’ll improve on that?\",\"parent_id\":\"t3_1h5ts80\",\"_id\":\"675c823fa25f65c1ac0b3756\",\"id\":\"675c823fa25f65c1ac0b3756\"}\n",
      "1gv1mwn. {\"comm_id\":\"lysvjzi\",\"body\":\"Hi, I have EU company that can be connected to any USA payment gateway. Can take care of all taxes and withdraw your cash via bank transfer or crypto. Let me know if that can work\",\"parent_id\":\"t3_1gv1mwn\",\"_id\":\"675c8242a25f65c1ac0b375f\",\"id\":\"675c8242a25f65c1ac0b375f\"}\n",
      "1gthadj. {\"comm_id\":\"lxmy9xh\",\"body\":\"I think the best way to get cofounders is to share your idea with people and see if anyone gets excited to work on it for free. If so, set up a fair equity split (not 50/50 in my opinion, better always to have someone in charge) that reflects your intent, and then you can agree to revisit that equity split in a few months before you formalize it. \\n\\nLearning to work on a trust basis will be great for everyone but then you must formalize the agreement once you start feeling the cofounder relationship working. \\n\\nalso: finding a cofounder is like finding a spouse. The first effort will probably not work that great, but that doesn't mean you can't have a good relationship that only goes so far, and learn a lot, and then amicably break up. You might have to date a few people, and start a few companies, before you learn how to be a good cofounder and find a good cofounder.\",\"parent_id\":\"t3_1gthadj\",\"_id\":\"675c8245a25f65c1ac0b3764\",\"id\":\"675c8245a25f65c1ac0b3764\"}\n",
      "1h3i948. {\"comm_id\":\"lzu3m8e\",\"body\":\"Before negotiating anything:\\n\\nWho are the founders? Who are the other employees? Do you believe they can execute based on what you know?\\n\\nHow much did they raise until now? Who did they raise from? When are they planning to raise again? If they raised from prominent VCs with experience to their niche,  what's the track record under said VCs, in some niches a good VC can take you hand in hand all the way to the exit.\\n\\nWhat is the product? Is there any version available yet? Are there any customers? What's the ARR if they can disclose? Are customers from \\\"VC logos\\\" or did the founders get them directly?\\n\\nWhat is the exit plan? Short term? Long term?\\n\\nBased on all of this and your personal financial situation, you can plan what to ask for, if you wish to proceed with them.\\n\\nIf you can't assess this data yourself, then I suggest gathering as much as you can, and asking for someone with more experience offline to help you. Doing it online can dox you.\\n\\nGood luck\",\"parent_id\":\"t3_1h3i948\",\"_id\":\"675c8248a25f65c1ac0b377a\",\"id\":\"675c8248a25f65c1ac0b377a\"}\n",
      "1h5u0zc. {\"comm_id\":\"m096yoj\",\"body\":\"VC lawyer here - frequently guide clients through financings. I think this is a nod of confidence in your product coming from a strategic and that's likely how institutional VCs will see it. No real downsides in my opinion. Strategics typically make such early investments in products they like (and see as an acquisition targets) so that they can remain close to the business and the founders. That of course doesn't mean you have to agree to their acquisition overtures down the road. Having the strategic on your cap table will be a strong endorsement when going out to more institutional funds. Something to consider is protecting your secret sauce. So make sure they're under an NDA and place restrictions on the kinds of documents they can request as an investor in the company.\",\"parent_id\":\"t3_1h5u0zc\",\"_id\":\"675c824aa25f65c1ac0b377d\",\"id\":\"675c824aa25f65c1ac0b377d\"}\n",
      "1gp7ro7. {\"comm_id\":\"lwodsgl\",\"body\":\"Advisors help with the chicken and egg problem of credibility in your startup. They are a class above investors in terms of desirable brands because they do not need to commit capital at the riskiest stage of your startup and are getting somewhat a free option. So if you can’t get someone to invest, you can sometimes get them to be advisors instead and some people would do that, both for the giving back to help out other startups and the potential free upside. Once you have advisors on your roster, other investors, employees, execs may follow more easily. \\n\\nBut if you don’t need this because of your network and ability to fundraise from brand name angels and institutions, then by all means you don’t need advisors either, except in specific niche domains of expertise (SEO, GTM, strategy, etc).\",\"parent_id\":\"t3_1gp7ro7\",\"_id\":\"675c824da25f65c1ac0b3781\",\"id\":\"675c824da25f65c1ac0b3781\"}\n",
      "1gn8tro. {\"comm_id\":\"lw8w0ic\",\"body\":\"I don't remember the names but read some really nice blogs on \\\"how different start-ups got their first 100 customers\\\". It was extremely valuable to understand how different start-ups overcame cold start problem and it was a lot practical. May be you can search for something similar online. In fact reddit has really good stories on almost everything a founder will face. Please don't forget to share your output with us. Best of luck! :-)\",\"parent_id\":\"t3_1gn8tro\",\"_id\":\"675c8250a25f65c1ac0b378a\",\"id\":\"675c8250a25f65c1ac0b378a\"}\n",
      "1gkmkfq. {\"comm_id\":\"lvmhd08\",\"body\":\"When you see the failure rate of startups and feel discouraged, just breathe and remember that those statistics include people like OP.\",\"parent_id\":\"t3_1gkmkfq\",\"_id\":\"675c8253a25f65c1ac0b378b\",\"id\":\"675c8253a25f65c1ac0b378b\"}\n",
      "1h153lt. {\"comm_id\":\"lz8xa4u\",\"body\":\"Hey, I’m currently trying to find users for the [Distant](https://www.getdistant.com) user trial, we are a couples communication/conflict resolution app. \\n\\nIf you drop me a DM I can give you a rundown of the strategy’s I’m trying - I’d be very grateful if any advice you could offer me! I’m new to all this…\",\"parent_id\":\"t3_1h153lt\",\"_id\":\"675c8256a25f65c1ac0b3797\",\"id\":\"675c8256a25f65c1ac0b3797\"}\n",
      "1gwif2d. {\"comm_id\":\"ly9grok\",\"body\":\"PH has always been susceptible to being gamed.  Perhaps that should be looked into first.\\n\\nAnd no, will not launch on PH.\",\"parent_id\":\"t3_1gwif2d\",\"_id\":\"675c8259a25f65c1ac0b3799\",\"id\":\"675c8259a25f65c1ac0b3799\"}\n",
      "1h1bouc. {\"comm_id\":\"lzaj58h\",\"body\":\"It depends on whether your product is thermonuclear guided missile or a frying pan.\",\"parent_id\":\"t3_1h1bouc\",\"_id\":\"675c825ca25f65c1ac0b37a0\",\"id\":\"675c825ca25f65c1ac0b37a0\"}\n",
      "1gg34cu. {\"comm_id\":\"lumonyv\",\"body\":\"What has helped me the most, is positive feedback from people using the product. A few years ago I developed an app, lost interest in it, but a few months after launch somebody wrote me an email, that she liked the app and would like to see this and that feature. The app only had around 100 downloads at this point.\\n\\nThis motivated me to keep developing and today this app has over 100k downloads and an active userbase, which may have never happened without this feedback.\",\"parent_id\":\"t3_1gg34cu\",\"_id\":\"675c825ea25f65c1ac0b37a5\",\"id\":\"675c825ea25f65c1ac0b37a5\"}\n",
      "1gvyzdz has no comments\n",
      "1h5oz6l. {\"comm_id\":\"m07hupx\",\"body\":\"Congrats on the grind paying off!  You can grow your user base from here and make a good living.\",\"parent_id\":\"t3_1h5oz6l\",\"_id\":\"675c8262a25f65c1ac0b37a8\",\"id\":\"675c8262a25f65c1ac0b37a8\"}\n",
      "1gw7jsh. {\"comm_id\":\"ly7suy2\",\"body\":\"Cofounder alignment mechanism:\\nPossible Cofounders\\n- Family\\n- Friends\\n- Alum\\n- Coworkers\\n- Clients\\n- Customers\\n\\n\\nSteps : \\n- Document primary vision and thought process\\n- Identify top candidates of the above in your list\\n- Discuss your revenue model and vision with them \\n\\nFor company registrations, there are already loads of agencies, hire one and get it done\\n\\nFor equity structure and split there are several formulas available to quantify roles, involvements and finances to decide on the split%\",\"parent_id\":\"t3_1gw7jsh\",\"_id\":\"675c8264a25f65c1ac0b37bc\",\"id\":\"675c8264a25f65c1ac0b37bc\"}\n",
      "1giyk16. {\"comm_id\":\"lv929z7\",\"body\":\"To answer just a portion of your question, you should NEVER market as \\\"the product does x,y,z\\\".  this goes for existing companies as well as your goal of validation.  \\n\\nThe goal here is to say the product SOLVES this, this, and this.  Customers don't care about HOW you solve a problem, they care about the pain avoidance.  Market towards pain / benefit, NOT towards a feature list of what your product does.\",\"parent_id\":\"t3_1giyk16\",\"_id\":\"675c8267a25f65c1ac0b37bd\",\"id\":\"675c8267a25f65c1ac0b37bd\"}\n",
      "1gvrw7e. {\"comm_id\":\"ly41iud\",\"body\":\"Data security isn’t a tag you apply to a database. It’s more of a security stance\\n\\nCreating users that can only read and a user that can only write. Limit what networks can access the database. Make sure that data is at least hashed and better stored effectively with an encryption method created for each user and stored elsewhere. Being hipaa or gdpr compliant means making sure no one can access the details and if someone can access then making sure that the data cannot be identifiable\",\"parent_id\":\"t3_1gvrw7e\",\"_id\":\"675c826aa25f65c1ac0b37c2\",\"id\":\"675c826aa25f65c1ac0b37c2\"}\n"
     ]
    },
    {
     "ename": "",
     "evalue": "",
     "output_type": "error",
     "traceback": [
      "\u001b[1;31mCannot execute code, session has been disposed. Please try restarting the Kernel."
     ]
    },
    {
     "ename": "",
     "evalue": "",
     "output_type": "error",
     "traceback": [
      "\u001b[1;31mCannot execute code, session has been disposed. Please try restarting the Kernel. \n",
      "\u001b[1;31mView Jupyter <a href='command:jupyter.viewOutput'>log</a> for further details."
     ]
    },
    {
     "ename": "",
     "evalue": "",
     "output_type": "error",
     "traceback": [
      "\u001b[1;31mThe Kernel crashed while executing code in the current cell or a previous cell. \n",
      "\u001b[1;31mPlease review the code in the cell(s) to identify a possible cause of the failure. \n",
      "\u001b[1;31mClick <a href='https://aka.ms/vscodeJupyterKernelCrash'>here</a> for more info. \n",
      "\u001b[1;31mView Jupyter <a href='command:jupyter.viewOutput'>log</a> for further details."
     ]
    }
   ],
   "source": [
    "\n",
    "import requests\n",
    "url = \"http://localhost:5678/webhook/post_comm\"\n",
    "count = 0\n",
    "for i in remaining_post_ids:\n",
    "    if df[df['id'] == i]['num_comments'].values[0] <= 0:\n",
    "        print(f'{i} has no comments')\n",
    "        continue\n",
    "    body = {\n",
    "        \"post_id\": i,\n",
    "        }\n",
    "    resp = requests.post(url, body)\n",
    "    print(f'{i}. {resp.text}')\n",
    "    time.sleep(2)"
   ]
  }
 ],
 "metadata": {
  "kernelspec": {
   "display_name": "env",
   "language": "python",
   "name": "python3"
  },
  "language_info": {
   "codemirror_mode": {
    "name": "ipython",
    "version": 3
   },
   "file_extension": ".py",
   "mimetype": "text/x-python",
   "name": "python",
   "nbconvert_exporter": "python",
   "pygments_lexer": "ipython3",
   "version": "3.12.5"
  }
 },
 "nbformat": 4,
 "nbformat_minor": 2
}

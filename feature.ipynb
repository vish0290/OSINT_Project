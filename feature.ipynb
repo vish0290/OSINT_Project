{
 "cells": [
  {
   "cell_type": "markdown",
   "metadata": {},
   "source": [
    "Libraries"
   ]
  },
  {
   "cell_type": "code",
   "execution_count": 25,
   "metadata": {},
   "outputs": [],
   "source": [
    "import os\n",
    "from mistralai import Mistral\n",
    "from dotenv import load_dotenv\n",
    "import pandas as pd\n",
    "load_dotenv()\n",
    "import time"
   ]
  },
  {
   "cell_type": "markdown",
   "metadata": {},
   "source": [
    "Env and client setup"
   ]
  },
  {
   "cell_type": "code",
   "execution_count": null,
   "metadata": {},
   "outputs": [],
   "source": [
    "\n",
    "api_key = os.environ[\"mistral_key\"]\n",
    "agent_id = os.environ[\"agent_id\"]\n",
    "model = \"open-mistral-nemo\"\n",
    "client = Mistral(api_key=api_key)"
   ]
  },
  {
   "cell_type": "markdown",
   "metadata": {},
   "source": [
    "Local Data import"
   ]
  },
  {
   "cell_type": "code",
   "execution_count": null,
   "metadata": {},
   "outputs": [],
   "source": [
    "df = pd.read_csv('startups_hot.csv')\n",
    "df2 = df[['title','selftext']]\n",
    "df3 = df2[['title','selftext']][:20]\n",
    "col = list(df.columns)"
   ]
  },
  {
   "cell_type": "markdown",
   "metadata": {},
   "source": [
    "Basic Classification with Mistral"
   ]
  },
  {
   "cell_type": "code",
   "execution_count": null,
   "metadata": {},
   "outputs": [
    {
     "name": "stdout",
     "output_type": "stream",
     "text": [
      "title:To all indie app devs who raised funding !,response:{'message': 'question'}\n",
      "title:My design business is going downhill! From 60 staff to 15 staff. Seeking a mentor.\n",
      ",response:{'message': 'experience'}\n",
      "title:How would you go abouy creating a service based market place? ,response:{'message': 'question'}\n",
      "title:Naming Help,response:{'message': 'question'}\n",
      "title:An Inspiring Startup Story with a Twist,response:{'message': 'experience'}\n",
      "title:Startup: Seeking Strategies to Acquire the First 100 Users,response:{'message':'question'}\n",
      "title:HRTech Co-founder,response:{'message': 'question'}\n",
      "title:How do I market my MVP service?,response:{'message': 'question'}\n",
      "title:Need guidance regarding marketing to sell books, content ,response:{'message': 'question'}\n",
      "title:Customers only want managed service model and not a diy tool. What should I do?,response:{'message': 'question'}\n",
      "title:How to do marketing for my products?,response:{'message': 'question'}\n",
      "title:Co-Founders or Investors for SMBs,response:{'message':'question'}\n",
      "title:36 startup ideas found by analyzing podcasts (problem, solution &amp; source episode),response:{'message':'experience'}\n",
      "title:How to Share Equity in a Startup?,response:{'message':'experience'}\n",
      "title:SaaS stuck at $8-10k MRR for a year now, how do we 10x this?,response:{'message': 'question'}\n",
      "title:Don't quit your job - even if you have savings,response:{'message': 'experience'}\n",
      "title:Startup Wisdom: Done is Better Than Perfect,response:{'message': 'experience'}\n",
      "title:Do you use Instagram or other social media tools for your startup?,response:{'message': 'question'}\n",
      "title:Need recommendation for experienced Reddit advertising expert.,response:{'message': 'question'}\n",
      "title:How do you guys MEASURE problem-solving abilities? {Is there even a way},response:{'message': 'question'}\n"
     ]
    }
   ],
   "source": [
    "for title, selftext in df3.values:\n",
    "    chat_response = client.agents.complete(\n",
    "    agent_id=\"\",\n",
    "    messages=[\n",
    "        {\n",
    "            \"role\": \"user\",\n",
    "            \"content\": f\"title: {title},body: {selftext}\",\n",
    "        },\n",
    "    ],\n",
    ")\n",
    "    # print(chat_response.choices[0].message.content)\n",
    "    print(f'title:{title},response:{chat_response.choices[0].message.content}')\n",
    "    time.sleep(5)\n",
    "# print(chat_response.choices[0].message.content)\n",
    "    "
   ]
  }
 ],
 "metadata": {
  "kernelspec": {
   "display_name": "env",
   "language": "python",
   "name": "python3"
  },
  "language_info": {
   "codemirror_mode": {
    "name": "ipython",
    "version": 3
   },
   "file_extension": ".py",
   "mimetype": "text/x-python",
   "name": "python",
   "nbconvert_exporter": "python",
   "pygments_lexer": "ipython3",
   "version": "3.12.5"
  }
 },
 "nbformat": 4,
 "nbformat_minor": 2
}

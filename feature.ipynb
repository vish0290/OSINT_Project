{
 "cells": [
  {
   "cell_type": "markdown",
   "metadata": {},
   "source": [
    "Libraries"
   ]
  },
  {
   "cell_type": "code",
   "execution_count": 26,
   "metadata": {},
   "outputs": [],
   "source": [
    "import os\n",
    "from mistralai import Mistral\n",
    "from dotenv import load_dotenv\n",
    "import pandas as pd\n",
    "from pymongo import MongoClient\n",
    "load_dotenv()\n",
    "import time"
   ]
  },
  {
   "cell_type": "markdown",
   "metadata": {},
   "source": [
    "Env and client setup"
   ]
  },
  {
   "cell_type": "code",
   "execution_count": 28,
   "metadata": {},
   "outputs": [
    {
     "ename": "ConfigurationError",
     "evalue": "The resolution lifetime expired after 21.608 seconds: Server Do53:83.169.184.33@53 answered The DNS operation timed out.; Server Do53:83.169.184.97@53 answered The DNS operation timed out.; Server Do53:83.169.184.33@53 answered The DNS operation timed out.; Server Do53:83.169.184.97@53 answered The DNS operation timed out.; Server Do53:83.169.184.33@53 answered The DNS operation timed out.; Server Do53:83.169.184.97@53 answered The DNS operation timed out.; Server Do53:83.169.184.33@53 answered The DNS operation timed out.; Server Do53:83.169.184.97@53 answered The DNS operation timed out.; Server Do53:83.169.184.33@53 answered The DNS operation timed out.; Server Do53:83.169.184.97@53 answered The DNS operation timed out.",
     "output_type": "error",
     "traceback": [
      "\u001b[1;31m---------------------------------------------------------------------------\u001b[0m",
      "\u001b[1;31mConfigurationError\u001b[0m                        Traceback (most recent call last)",
      "Cell \u001b[1;32mIn[28], line 6\u001b[0m\n\u001b[0;32m      4\u001b[0m model \u001b[38;5;241m=\u001b[39m \u001b[38;5;124m\"\u001b[39m\u001b[38;5;124mopen-mistral-nemo\u001b[39m\u001b[38;5;124m\"\u001b[39m\n\u001b[0;32m      5\u001b[0m client \u001b[38;5;241m=\u001b[39m Mistral(api_key\u001b[38;5;241m=\u001b[39mapi_key)\n\u001b[1;32m----> 6\u001b[0m mongo_client \u001b[38;5;241m=\u001b[39m \u001b[43mMongoClient\u001b[49m\u001b[43m(\u001b[49m\u001b[43mdb_url\u001b[49m\u001b[43m)\u001b[49m\n\u001b[0;32m      7\u001b[0m db  \u001b[38;5;241m=\u001b[39m mongo_client\u001b[38;5;241m.\u001b[39mreddit\n\u001b[0;32m      8\u001b[0m post_db \u001b[38;5;241m=\u001b[39m db[\u001b[38;5;124m'\u001b[39m\u001b[38;5;124mpost_new\u001b[39m\u001b[38;5;124m'\u001b[39m]\n",
      "File \u001b[1;32mc:\\Users\\Admin\\Desktop\\OSINT_Project\\myenv\\Lib\\site-packages\\pymongo\\synchronous\\mongo_client.py:780\u001b[0m, in \u001b[0;36mMongoClient.__init__\u001b[1;34m(self, host, port, document_class, tz_aware, connect, type_registry, **kwargs)\u001b[0m\n\u001b[0;32m    776\u001b[0m \u001b[38;5;28;01mif\u001b[39;00m timeout \u001b[38;5;129;01mis\u001b[39;00m \u001b[38;5;129;01mnot\u001b[39;00m \u001b[38;5;28;01mNone\u001b[39;00m:\n\u001b[0;32m    777\u001b[0m     timeout \u001b[38;5;241m=\u001b[39m common\u001b[38;5;241m.\u001b[39mvalidate_timeout_or_none_or_zero(\n\u001b[0;32m    778\u001b[0m         keyword_opts\u001b[38;5;241m.\u001b[39mcased_key(\u001b[38;5;124m\"\u001b[39m\u001b[38;5;124mconnecttimeoutms\u001b[39m\u001b[38;5;124m\"\u001b[39m), timeout\n\u001b[0;32m    779\u001b[0m     )\n\u001b[1;32m--> 780\u001b[0m res \u001b[38;5;241m=\u001b[39m \u001b[43muri_parser\u001b[49m\u001b[38;5;241;43m.\u001b[39;49m\u001b[43mparse_uri\u001b[49m\u001b[43m(\u001b[49m\n\u001b[0;32m    781\u001b[0m \u001b[43m    \u001b[49m\u001b[43mentity\u001b[49m\u001b[43m,\u001b[49m\n\u001b[0;32m    782\u001b[0m \u001b[43m    \u001b[49m\u001b[43mport\u001b[49m\u001b[43m,\u001b[49m\n\u001b[0;32m    783\u001b[0m \u001b[43m    \u001b[49m\u001b[43mvalidate\u001b[49m\u001b[38;5;241;43m=\u001b[39;49m\u001b[38;5;28;43;01mTrue\u001b[39;49;00m\u001b[43m,\u001b[49m\n\u001b[0;32m    784\u001b[0m \u001b[43m    \u001b[49m\u001b[43mwarn\u001b[49m\u001b[38;5;241;43m=\u001b[39;49m\u001b[38;5;28;43;01mTrue\u001b[39;49;00m\u001b[43m,\u001b[49m\n\u001b[0;32m    785\u001b[0m \u001b[43m    \u001b[49m\u001b[43mnormalize\u001b[49m\u001b[38;5;241;43m=\u001b[39;49m\u001b[38;5;28;43;01mFalse\u001b[39;49;00m\u001b[43m,\u001b[49m\n\u001b[0;32m    786\u001b[0m \u001b[43m    \u001b[49m\u001b[43mconnect_timeout\u001b[49m\u001b[38;5;241;43m=\u001b[39;49m\u001b[43mtimeout\u001b[49m\u001b[43m,\u001b[49m\n\u001b[0;32m    787\u001b[0m \u001b[43m    \u001b[49m\u001b[43msrv_service_name\u001b[49m\u001b[38;5;241;43m=\u001b[39;49m\u001b[43msrv_service_name\u001b[49m\u001b[43m,\u001b[49m\n\u001b[0;32m    788\u001b[0m \u001b[43m    \u001b[49m\u001b[43msrv_max_hosts\u001b[49m\u001b[38;5;241;43m=\u001b[39;49m\u001b[43msrv_max_hosts\u001b[49m\u001b[43m,\u001b[49m\n\u001b[0;32m    789\u001b[0m \u001b[43m\u001b[49m\u001b[43m)\u001b[49m\n\u001b[0;32m    790\u001b[0m seeds\u001b[38;5;241m.\u001b[39mupdate(res[\u001b[38;5;124m\"\u001b[39m\u001b[38;5;124mnodelist\u001b[39m\u001b[38;5;124m\"\u001b[39m])\n\u001b[0;32m    791\u001b[0m username \u001b[38;5;241m=\u001b[39m res[\u001b[38;5;124m\"\u001b[39m\u001b[38;5;124musername\u001b[39m\u001b[38;5;124m\"\u001b[39m] \u001b[38;5;129;01mor\u001b[39;00m username\n",
      "File \u001b[1;32mc:\\Users\\Admin\\Desktop\\OSINT_Project\\myenv\\Lib\\site-packages\\pymongo\\uri_parser.py:558\u001b[0m, in \u001b[0;36mparse_uri\u001b[1;34m(uri, default_port, validate, warn, normalize, connect_timeout, srv_service_name, srv_max_hosts)\u001b[0m\n\u001b[0;32m    556\u001b[0m connect_timeout \u001b[38;5;241m=\u001b[39m connect_timeout \u001b[38;5;129;01mor\u001b[39;00m options\u001b[38;5;241m.\u001b[39mget(\u001b[38;5;124m\"\u001b[39m\u001b[38;5;124mconnectTimeoutMS\u001b[39m\u001b[38;5;124m\"\u001b[39m)\n\u001b[0;32m    557\u001b[0m dns_resolver \u001b[38;5;241m=\u001b[39m _SrvResolver(fqdn, connect_timeout, srv_service_name, srv_max_hosts)\n\u001b[1;32m--> 558\u001b[0m nodes \u001b[38;5;241m=\u001b[39m \u001b[43mdns_resolver\u001b[49m\u001b[38;5;241;43m.\u001b[39;49m\u001b[43mget_hosts\u001b[49m\u001b[43m(\u001b[49m\u001b[43m)\u001b[49m\n\u001b[0;32m    559\u001b[0m dns_options \u001b[38;5;241m=\u001b[39m dns_resolver\u001b[38;5;241m.\u001b[39mget_options()\n\u001b[0;32m    560\u001b[0m \u001b[38;5;28;01mif\u001b[39;00m dns_options:\n",
      "File \u001b[1;32mc:\\Users\\Admin\\Desktop\\OSINT_Project\\myenv\\Lib\\site-packages\\pymongo\\srv_resolver.py:140\u001b[0m, in \u001b[0;36m_SrvResolver.get_hosts\u001b[1;34m(self)\u001b[0m\n\u001b[0;32m    139\u001b[0m \u001b[38;5;28;01mdef\u001b[39;00m \u001b[38;5;21mget_hosts\u001b[39m(\u001b[38;5;28mself\u001b[39m) \u001b[38;5;241m-\u001b[39m\u001b[38;5;241m>\u001b[39m \u001b[38;5;28mlist\u001b[39m[\u001b[38;5;28mtuple\u001b[39m[\u001b[38;5;28mstr\u001b[39m, Any]]:\n\u001b[1;32m--> 140\u001b[0m     _, nodes \u001b[38;5;241m=\u001b[39m \u001b[38;5;28;43mself\u001b[39;49m\u001b[38;5;241;43m.\u001b[39;49m\u001b[43m_get_srv_response_and_hosts\u001b[49m\u001b[43m(\u001b[49m\u001b[38;5;28;43;01mTrue\u001b[39;49;00m\u001b[43m)\u001b[49m\n\u001b[0;32m    141\u001b[0m     \u001b[38;5;28;01mreturn\u001b[39;00m nodes\n",
      "File \u001b[1;32mc:\\Users\\Admin\\Desktop\\OSINT_Project\\myenv\\Lib\\site-packages\\pymongo\\srv_resolver.py:120\u001b[0m, in \u001b[0;36m_SrvResolver._get_srv_response_and_hosts\u001b[1;34m(self, encapsulate_errors)\u001b[0m\n\u001b[0;32m    117\u001b[0m \u001b[38;5;28;01mdef\u001b[39;00m \u001b[38;5;21m_get_srv_response_and_hosts\u001b[39m(\n\u001b[0;32m    118\u001b[0m     \u001b[38;5;28mself\u001b[39m, encapsulate_errors: \u001b[38;5;28mbool\u001b[39m\n\u001b[0;32m    119\u001b[0m ) \u001b[38;5;241m-\u001b[39m\u001b[38;5;241m>\u001b[39m \u001b[38;5;28mtuple\u001b[39m[resolver\u001b[38;5;241m.\u001b[39mAnswer, \u001b[38;5;28mlist\u001b[39m[\u001b[38;5;28mtuple\u001b[39m[\u001b[38;5;28mstr\u001b[39m, Any]]]:\n\u001b[1;32m--> 120\u001b[0m     results \u001b[38;5;241m=\u001b[39m \u001b[38;5;28;43mself\u001b[39;49m\u001b[38;5;241;43m.\u001b[39;49m\u001b[43m_resolve_uri\u001b[49m\u001b[43m(\u001b[49m\u001b[43mencapsulate_errors\u001b[49m\u001b[43m)\u001b[49m\n\u001b[0;32m    122\u001b[0m     \u001b[38;5;66;03m# Construct address tuples\u001b[39;00m\n\u001b[0;32m    123\u001b[0m     nodes \u001b[38;5;241m=\u001b[39m [\n\u001b[0;32m    124\u001b[0m         (maybe_decode(res\u001b[38;5;241m.\u001b[39mtarget\u001b[38;5;241m.\u001b[39mto_text(omit_final_dot\u001b[38;5;241m=\u001b[39m\u001b[38;5;28;01mTrue\u001b[39;00m)), res\u001b[38;5;241m.\u001b[39mport) \u001b[38;5;28;01mfor\u001b[39;00m res \u001b[38;5;129;01min\u001b[39;00m results\n\u001b[0;32m    125\u001b[0m     ]\n",
      "File \u001b[1;32mc:\\Users\\Admin\\Desktop\\OSINT_Project\\myenv\\Lib\\site-packages\\pymongo\\srv_resolver.py:114\u001b[0m, in \u001b[0;36m_SrvResolver._resolve_uri\u001b[1;34m(self, encapsulate_errors)\u001b[0m\n\u001b[0;32m    112\u001b[0m         \u001b[38;5;28;01mraise\u001b[39;00m\n\u001b[0;32m    113\u001b[0m     \u001b[38;5;66;03m# Else, raise all errors as ConfigurationError.\u001b[39;00m\n\u001b[1;32m--> 114\u001b[0m     \u001b[38;5;28;01mraise\u001b[39;00m ConfigurationError(\u001b[38;5;28mstr\u001b[39m(exc)) \u001b[38;5;28;01mfrom\u001b[39;00m \u001b[38;5;28;01mNone\u001b[39;00m\n\u001b[0;32m    115\u001b[0m \u001b[38;5;28;01mreturn\u001b[39;00m results\n",
      "\u001b[1;31mConfigurationError\u001b[0m: The resolution lifetime expired after 21.608 seconds: Server Do53:83.169.184.33@53 answered The DNS operation timed out.; Server Do53:83.169.184.97@53 answered The DNS operation timed out.; Server Do53:83.169.184.33@53 answered The DNS operation timed out.; Server Do53:83.169.184.97@53 answered The DNS operation timed out.; Server Do53:83.169.184.33@53 answered The DNS operation timed out.; Server Do53:83.169.184.97@53 answered The DNS operation timed out.; Server Do53:83.169.184.33@53 answered The DNS operation timed out.; Server Do53:83.169.184.97@53 answered The DNS operation timed out.; Server Do53:83.169.184.33@53 answered The DNS operation timed out.; Server Do53:83.169.184.97@53 answered The DNS operation timed out."
     ]
    }
   ],
   "source": [
    "api_key = os.environ[\"mistral_key\"]\n",
    "agent_id = os.environ[\"agent_id\"]\n",
    "db_url = os.environ[\"DB_URL\"]\n",
    "model = \"open-mistral-nemo\"\n",
    "client = Mistral(api_key=api_key)\n",
    "mongo_client = MongoClient(db_url)\n",
    "db  = mongo_client.reddit\n",
    "post_db = db['post_new']\n"
   ]
  },
  {
   "cell_type": "markdown",
   "metadata": {},
   "source": [
    "Local Data import"
   ]
  },
  {
   "cell_type": "code",
   "execution_count": 9,
   "metadata": {},
   "outputs": [
    {
     "name": "stdout",
     "output_type": "stream",
     "text": [
      "{'_id': ObjectId('6759c56c3031622e94ed9baf'), 'id': '1g1em48', 'title': 'Share your startup - quarterly post', 'selftext': \"Share Your Startup - Q4 2023\\n\\n[**r/startups**](https://www.reddit.com/r/startups/) **wants to hear what you're working on!**\\n\\nTell us about your startup in a comment within this submission. Follow this template:\\n=====================================================================================\\n\\n\\u200b\\n\\n*   **Startup Name / URL**\\n*   **Location of Your Headquarters**\\n    *   Let people know where you are based for possible local networking with you and to share local resources with you\\n*   **Elevator Pitch/Explainer Video**\\n*   **More details:**\\n    *   What life cycle stage is your startup at? (reference the stages below)\\n    *   Your role?\\n*   **What goals are you trying to reach this month?**\\n    *   How could [r/startups](https://www.reddit.com/r/startups/) help?\\n    *   Do **NOT** solicit funds publicly--this may be illegal for you to do so\\n*   **Discount for** [r/startups](/r/startups) **subscribers?**\\n    *   Share how our community can get a discount\\n\\n\\u200b\\n\\n\\n\\\\--------------------------------------------------\\n\\n\\u200b\\n\\n**Startup Life Cycle Stages** (Max Marmer life cycle model for startups as used by Startup Genome and Kauffman Foundation)\\n\\n**Discovery**\\n\\n*   Researching the market, the competitors, and the potential users\\n*   Designing the first iteration of the user experience\\n*   Working towards problem/solution fit (Market Validation)\\n*   Building MVP\\n\\n\\u200b\\n\\n**Validation**\\n\\n*   Achieved problem/solution fit (Market Validation)\\n*   MVP launched\\n*   Conducting Product Validation\\n*   Revising/refining user experience based on results of Product Validation tests\\n*   Refining Product through new Versions (Ver.1+)\\n*   Working towards product/market fit\\n\\n\\u200b\\n\\n**Efficiency**\\n\\n*   Achieved product/market fit\\n*   Preparing to begin the scaling process\\n*   Optimizing the user experience to handle aggressive user growth at scale\\n*   Optimizing the performance of the product to handle aggressive user growth at scale\\n*   Optimizing the operational workflows and systems in preparation for scaling\\n*   Conducting validation tests of scaling strategies\\n\\n\\u200b\\n\\n**Scaling**\\n\\n*   Achieved validation of scaling strategies\\n*   Achieved an acceptable level of optimization of the operational systems\\n*   Actively pushing forward with aggressive growth\\n*   Conducting validation tests to achieve a repeatable sales process at scale\\n\\n\\u200b\\n\\n**Profit Maximization**\\n\\n*   Successfully scaled the business and can now be considered an established company\\n*   Expanding production and operations in order to increase revenue\\n*   Optimizing systems to maximize profits\\n\\n\\u200b\\n\\n**Renewal**\\n\\n*   Has achieved near-peak profits\\n*   Has achieved near-peak optimization of systems\\n*   Actively seeking to reinvent the company and core products to stay innovative\\n*   Actively seeking to acquire other companies and technologies to expand market share and relevancy\\n*   Actively exploring horizontal and vertical expansion to increase prevent the decline of the company\", 'ups': 47, 'subreddit': 'startups', 'created_utc': 1728666049.0, 'num_comments': 522, 'url': 'https://www.reddit.com/r/startups/comments/1g1em48/share_your_startup_quarterly_post/'}\n"
     ]
    }
   ],
   "source": [
    "rec = post_db.find()\n",
    "rec = list(rec)\n",
    "print(rec[0])"
   ]
  },
  {
   "cell_type": "code",
   "execution_count": 10,
   "metadata": {},
   "outputs": [
    {
     "data": {
      "text/plain": [
       "{'_id': ObjectId('6759c56c3031622e94ed9baf'),\n",
       " 'id': '1g1em48',\n",
       " 'title': 'Share your startup - quarterly post',\n",
       " 'selftext': \"Share Your Startup - Q4 2023\\n\\n[**r/startups**](https://www.reddit.com/r/startups/) **wants to hear what you're working on!**\\n\\nTell us about your startup in a comment within this submission. Follow this template:\\n=====================================================================================\\n\\n\\u200b\\n\\n*   **Startup Name / URL**\\n*   **Location of Your Headquarters**\\n    *   Let people know where you are based for possible local networking with you and to share local resources with you\\n*   **Elevator Pitch/Explainer Video**\\n*   **More details:**\\n    *   What life cycle stage is your startup at? (reference the stages below)\\n    *   Your role?\\n*   **What goals are you trying to reach this month?**\\n    *   How could [r/startups](https://www.reddit.com/r/startups/) help?\\n    *   Do **NOT** solicit funds publicly--this may be illegal for you to do so\\n*   **Discount for** [r/startups](/r/startups) **subscribers?**\\n    *   Share how our community can get a discount\\n\\n\\u200b\\n\\n\\n\\\\--------------------------------------------------\\n\\n\\u200b\\n\\n**Startup Life Cycle Stages** (Max Marmer life cycle model for startups as used by Startup Genome and Kauffman Foundation)\\n\\n**Discovery**\\n\\n*   Researching the market, the competitors, and the potential users\\n*   Designing the first iteration of the user experience\\n*   Working towards problem/solution fit (Market Validation)\\n*   Building MVP\\n\\n\\u200b\\n\\n**Validation**\\n\\n*   Achieved problem/solution fit (Market Validation)\\n*   MVP launched\\n*   Conducting Product Validation\\n*   Revising/refining user experience based on results of Product Validation tests\\n*   Refining Product through new Versions (Ver.1+)\\n*   Working towards product/market fit\\n\\n\\u200b\\n\\n**Efficiency**\\n\\n*   Achieved product/market fit\\n*   Preparing to begin the scaling process\\n*   Optimizing the user experience to handle aggressive user growth at scale\\n*   Optimizing the performance of the product to handle aggressive user growth at scale\\n*   Optimizing the operational workflows and systems in preparation for scaling\\n*   Conducting validation tests of scaling strategies\\n\\n\\u200b\\n\\n**Scaling**\\n\\n*   Achieved validation of scaling strategies\\n*   Achieved an acceptable level of optimization of the operational systems\\n*   Actively pushing forward with aggressive growth\\n*   Conducting validation tests to achieve a repeatable sales process at scale\\n\\n\\u200b\\n\\n**Profit Maximization**\\n\\n*   Successfully scaled the business and can now be considered an established company\\n*   Expanding production and operations in order to increase revenue\\n*   Optimizing systems to maximize profits\\n\\n\\u200b\\n\\n**Renewal**\\n\\n*   Has achieved near-peak profits\\n*   Has achieved near-peak optimization of systems\\n*   Actively seeking to reinvent the company and core products to stay innovative\\n*   Actively seeking to acquire other companies and technologies to expand market share and relevancy\\n*   Actively exploring horizontal and vertical expansion to increase prevent the decline of the company\",\n",
       " 'ups': 47,\n",
       " 'subreddit': 'startups',\n",
       " 'created_utc': 1728666049.0,\n",
       " 'num_comments': 522,\n",
       " 'url': 'https://www.reddit.com/r/startups/comments/1g1em48/share_your_startup_quarterly_post/'}"
      ]
     },
     "execution_count": 10,
     "metadata": {},
     "output_type": "execute_result"
    }
   ],
   "source": [
    "rec[0]"
   ]
  },
  {
   "cell_type": "markdown",
   "metadata": {},
   "source": [
    "Basic Classification with Mistral"
   ]
  },
  {
   "cell_type": "code",
   "execution_count": 14,
   "metadata": {},
   "outputs": [],
   "source": [
    "df=pd.DataFrame(rec)"
   ]
  },
  {
   "cell_type": "code",
   "execution_count": 17,
   "metadata": {},
   "outputs": [
    {
     "data": {
      "text/plain": [
       "(7825, 9)"
      ]
     },
     "execution_count": 17,
     "metadata": {},
     "output_type": "execute_result"
    }
   ],
   "source": [
    "df.shape"
   ]
  },
  {
   "cell_type": "code",
   "execution_count": 19,
   "metadata": {},
   "outputs": [],
   "source": [
    "\n",
    "sample=post_db.find({'response':{'$exists':True}})"
   ]
  },
  {
   "cell_type": "code",
   "execution_count": null,
   "metadata": {},
   "outputs": [
    {
     "name": "stdout",
     "output_type": "stream",
     "text": [
      "[]\n"
     ]
    }
   ],
   "source": [
    "print(list(sample[0]))"
   ]
  },
  {
   "cell_type": "code",
   "execution_count": null,
   "metadata": {},
   "outputs": [],
   "source": []
  }
 ],
 "metadata": {
  "kernelspec": {
   "display_name": "myenv",
   "language": "python",
   "name": "python3"
  },
  "language_info": {
   "codemirror_mode": {
    "name": "ipython",
    "version": 3
   },
   "file_extension": ".py",
   "mimetype": "text/x-python",
   "name": "python",
   "nbconvert_exporter": "python",
   "pygments_lexer": "ipython3",
   "version": "3.12.8"
  }
 },
 "nbformat": 4,
 "nbformat_minor": 2
}

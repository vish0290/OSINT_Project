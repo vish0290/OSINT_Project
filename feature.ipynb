{
 "cells": [
  {
   "cell_type": "markdown",
   "metadata": {},
   "source": [
    "Libraries"
   ]
  },
  {
   "cell_type": "code",
   "execution_count": 2,
   "metadata": {},
   "outputs": [],
   "source": [
    "import os\n",
    "from mistralai import Mistral\n",
    "from dotenv import load_dotenv\n",
    "import pandas as pd\n",
    "load_dotenv()\n",
    "import time\n",
    "from pymongo import MongoClient\n",
    "import json"
   ]
  },
  {
   "cell_type": "markdown",
   "metadata": {},
   "source": [
    "Env and client setup"
   ]
  },
  {
   "cell_type": "code",
   "execution_count": 3,
   "metadata": {},
   "outputs": [],
   "source": [
    "\n",
    "api_key = os.environ[\"mistral_key\"]\n",
    "agent_id = os.environ[\"agent_id\"]\n",
    "db_url = os.environ[\"DB_URL\"]\n",
    "model = \"open-mistral-nemo\"\n",
    "client = Mistral(api_key=api_key)\n",
    "mongo_client = MongoClient(db_url)\n",
    "db  = mongo_client.reddit\n",
    "post_db = db['post_new']"
   ]
  },
  {
   "cell_type": "markdown",
   "metadata": {},
   "source": [
    "Load Data from MonogoDB"
   ]
  },
  {
   "cell_type": "code",
   "execution_count": 4,
   "metadata": {},
   "outputs": [
    {
     "name": "stdout",
     "output_type": "stream",
     "text": [
      "{'_id': ObjectId('67558db3eeb7770cf0a37c63'), 'id': '1h9gtbi', 'title': 'Do you think this startup is worth continuing?', 'selftext': \"1,006 people came to my app and I made 9 sales. My product is $9.99 and it's a one-time payment. My profit rate is 90%. Do you think this is a good rate or is it not worth continuing? I haven't done any advertising so far, I just made 2 reddit posts without naming the app and in the comments they asked for the name of the app and I posted the link. Do you think I should advertise to influencers? I need help.\", 'ups': 1, 'subreddit': 'startups', 'created_utc': 1733656859.0, 'num_comments': 6, 'url': 'https://www.reddit.com/r/startups/comments/1h9gtbi/do_you_think_this_startup_is_worth_continuing/', 'response': 'question'}\n"
     ]
    }
   ],
   "source": [
    "rec = post_db.find()\n",
    "rec = list(rec)\n",
    "print(rec[0]) "
   ]
  },
  {
   "cell_type": "markdown",
   "metadata": {},
   "source": [
    "Local Data import"
   ]
  },
  {
   "cell_type": "code",
   "execution_count": null,
   "metadata": {},
   "outputs": [],
   "source": [
    "df = pd.read_csv('startups_hot.csv')\n",
    "df2 = df[['title','selftext']]\n",
    "df3 = df2[['title','selftext']][:20]\n",
    "col = list(df.columns)"
   ]
  },
  {
   "cell_type": "markdown",
   "metadata": {},
   "source": [
    "Update Records in mongodb"
   ]
  },
  {
   "cell_type": "code",
   "execution_count": 5,
   "metadata": {},
   "outputs": [],
   "source": [
    "def update_post(post):\n",
    "    try:\n",
    "        post_db.update_one({'id':post['id']},{'$set':post},upsert=True)\n",
    "        print(f'Post updated [{post[\"id\"]}]')\n",
    "    except Exception as e:\n",
    "        print(e)"
   ]
  },
  {
   "cell_type": "markdown",
   "metadata": {},
   "source": [
    "Basic Classification with Mistral"
   ]
  },
  {
   "cell_type": "code",
   "execution_count": null,
   "metadata": {},
   "outputs": [],
   "source": [
    "count = 0\n",
    "for i in rec:\n",
    "    chat_response = client.agents.complete(\n",
    "    agent_id=agent_id,\n",
    "    messages=[\n",
    "        {\n",
    "            \"role\": \"user\",\n",
    "            \"content\": f\"title: {i['title']},body: {i['selftext']}\",\n",
    "        },\n",
    "    ],\n",
    ")\n",
    "    response = eval(chat_response.choices[0].message.content)\n",
    "    count += 1\n",
    "    print(f'{count}. title:{i['title']},response:{response['message']}')\n",
    "    i['response'] = response['message']\n",
    "    update_post(i)\n",
    "    time.sleep(5)    "
   ]
  },
  {
   "cell_type": "code",
   "execution_count": 6,
   "metadata": {},
   "outputs": [],
   "source": [
    "def response_gen(post,agent_id):\n",
    "    chat_response = client.agents.complete(\n",
    "    agent_id=agent_id,\n",
    "    messages=[\n",
    "        {\n",
    "            \"role\": \"user\",\n",
    "            \"content\": f\"title: {post['title']},body: {post['selftext']}\",\n",
    "        },\n",
    "    ],\n",
    ")\n",
    "    response = eval(chat_response.choices[0].message.content)\n",
    "    post['response'] = response['message']\n",
    "    update_post(post)    "
   ]
  },
  {
   "cell_type": "code",
   "execution_count": null,
   "metadata": {},
   "outputs": [],
   "source": []
  }
 ],
 "metadata": {
  "kernelspec": {
   "display_name": "env",
   "language": "python",
   "name": "python3"
  },
  "language_info": {
   "codemirror_mode": {
    "name": "ipython",
    "version": 3
   },
   "file_extension": ".py",
   "mimetype": "text/x-python",
   "name": "python",
   "nbconvert_exporter": "python",
   "pygments_lexer": "ipython3",
   "version": "3.12.5"
  }
 },
 "nbformat": 4,
 "nbformat_minor": 2
}
